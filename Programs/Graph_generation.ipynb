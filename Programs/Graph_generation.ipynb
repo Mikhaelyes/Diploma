{
 "cells": [
  {
   "cell_type": "code",
   "execution_count": 1,
   "id": "e39269a3-9a9e-40d5-9d78-9326205bd1e1",
   "metadata": {},
   "outputs": [],
   "source": [
    "import networkx as nx\n",
    "import pandas as pd\n",
    "import numpy as np\n",
    "import random \n",
    "import scipy.stats as stats\n",
    "import matplotlib.pyplot as plt\n",
    "import sys, os\n",
    "import warnings\n",
    "import processing_module as pm\n",
    "import scipy.stats as stats\n",
    "from tqdm import tqdm\n",
    "\n",
    "warnings.filterwarnings(\"ignore\")"
   ]
  },
  {
   "cell_type": "markdown",
   "id": "be600040-8541-4173-b54a-3efca5d1ab44",
   "metadata": {},
   "source": [
    "<span style=\"color:orange\">\n",
    "    \n",
    "## Graph save ##"
   ]
  },
  {
   "cell_type": "code",
   "execution_count": 7,
   "id": "d2a1f3e3-2dd5-461e-a9f2-2e1175b5c8e6",
   "metadata": {},
   "outputs": [],
   "source": [
    "def gen_save_CA(G_input: nx.Graph, num_nodes: int, num_neigh: int, blocks: int, folder_name: str) -> nx.Graph:\n",
    "    \"\"\"\n",
    "    Генерация графа до половины времени по схеме CA.\n",
    "    С автоматическим сохранением снимков графа.\n",
    "    \"\"\"\n",
    "    my_path = os.path.abspath(\"\") + \"/..\"\n",
    "    for t in range(0, blocks):\n",
    "        G_input = pm.gen_graph_CA(G_input, num_nodes, num_neigh)\n",
    "        # pr[t] = list((nx.pagerank(G_init)).values())[-num_nodes:-1]\n",
    "        (nx.to_pandas_edgelist(G_input)).to_csv(my_path + \"/Data_postproc/\" + folder_name + \"/Graph_CA_\" \\\n",
    "                                               + str(t) + \"_part.csv\", index=False)\n",
    "    return G_input\n",
    "\n",
    "\n",
    "\n",
    "def gen_save_PA(G_input: nx.Graph, num_nodes: int, num_neigh: int, blocks: list, folder_name: str) -> nx.Graph:\n",
    "    \"\"\"\n",
    "    Генерация графа до половины времени по схеме PA.\n",
    "    С автоматическим сохранением снимков графа.\n",
    "    \"\"\"\n",
    "    my_path = os.path.abspath(\"\") + \"/..\"\n",
    "    for t in range(blocks[0], blocks[1]):\n",
    "        G_input = pm.gen_graph_PA(G_input, num_nodes, num_neigh)\n",
    "        # pr[t] = list((nx.pagerank(G_init)).values())[-num_nodes:-1]\n",
    "        (nx.to_pandas_edgelist(G_input)).to_csv(my_path + \"/Data_postproc/\" + folder_name + \"/Graph_PA_\" \\\n",
    "                                               + str(t) + \"_part.csv\", index=False)\n",
    "    return G_input\n",
    "\n",
    "\n",
    "def gen_save_PA_2(G_input: nx.Graph, num_nodes: int, num_neigh: int, blocks: list, folder_name: str) -> nx.Graph:\n",
    "    \"\"\"\n",
    "    Генерация графа до половины времени по схеме PA.\n",
    "    С автоматическим сохранением снимков графа.\n",
    "    \"\"\"\n",
    "    my_path = os.path.abspath(\"\") + \"/..\"\n",
    "    for t in range(blocks[0], blocks[1]):\n",
    "        G_input = pm.gen_graph_PA_2(G_input, num_nodes, num_neigh)\n",
    "        # pr[t] = list((nx.pagerank(G_init)).values())[-num_nodes:-1]\n",
    "        (nx.to_pandas_edgelist(G_input)).to_csv(my_path + \"/Data_postproc/\" + folder_name + \"/Graph_PA_\" \\\n",
    "                                               + str(t) + \"_part.csv\", index=False)\n",
    "    return G_input\n",
    "    \n",
    "\n",
    "def gen_save_ABG(G_input: nx.DiGraph, blocks: int, folder_name: str, param: list) -> nx.DiGraph:\n",
    "    \"\"\"\n",
    "    Генерация графа до половины времени по схеме ABG.\n",
    "    С автоматическим сохранением снимков графа.\n",
    "    param = [num_iterations, alpha, beta, d_in, d_out]\n",
    "    \"\"\"\n",
    "    \n",
    "    num_iterations = param[0]\n",
    "    alpha = param[1]\n",
    "    beta = param[2]\n",
    "    d_in = param[3]\n",
    "    d_out = param[4]\n",
    "    my_path = os.path.abspath(\"\") + \"/..\"\n",
    "    for t in range(0, blocks):\n",
    "        G_input = pm.gen_graph_ABG(G_input, num_iterations, alpha, beta, d_in, d_out)\n",
    "        # pr[t] = list((nx.pagerank(G_init)).values())[-num_nodes:-1]\n",
    "        (nx.to_pandas_edgelist(G_input)).to_csv(my_path + \"/Data_postproc/\" + folder_name + \"/Graph_ABG_\" \\\n",
    "                                               + str(t) + \"_part.csv\", index=False)\n",
    "    return G_input\n"
   ]
  },
  {
   "cell_type": "markdown",
   "id": "0493054d-af50-4add-b2b5-86b16ce473c3",
   "metadata": {},
   "source": [
    "<span style=\"color:orange\">\n",
    "    \n",
    "## ABG ##"
   ]
  },
  {
   "cell_type": "code",
   "execution_count": 3,
   "id": "16fc2db4-c52a-4909-9411-9f19136c99fc",
   "metadata": {},
   "outputs": [],
   "source": [
    "\"\"\"\n",
    "Ячейка отвечает за генерацию и тестирование графа.\n",
    "\"\"\"\n",
    "\n",
    "data_abg = {\n",
    "    'Source': [1, 2, 3],\n",
    "    'Target': [2, 3, 1],\n",
    "}\n",
    "\n",
    "row_labels = [1, 2, 3]\n",
    "\n",
    "ABG_graph = pd.DataFrame(data=data_abg, index=row_labels)\n",
    "\n",
    "G_abg = nx.DiGraph()\n",
    "G_abg.add_edges_from(ABG_graph.values.tolist())\n",
    "\n",
    "\n",
    "blocks = 10\n",
    "pr = []\n",
    "# param = [5000, 0.2, 0.5, 0.9, 0.9]\n",
    "param = [30000, 0.07, 0.86, 0.95, 0.95] #что то интересное\n",
    "# num_iterations = 10000, alpha = 0.5, beta = 0.4, d_in = 0.1, d_out = 0.1\n",
    "\n",
    "folder_name = \"ABG_graph_3\"\n",
    "\n",
    "if (False):\n",
    "    gen_save_ABG(G_abg, blocks, folder_name, param)"
   ]
  },
  {
   "cell_type": "markdown",
   "id": "85b75015-8273-4818-8598-e3be911f5f6f",
   "metadata": {},
   "source": [
    "<span style=\"color:orange\">\n",
    "    \n",
    "## PA ##"
   ]
  },
  {
   "cell_type": "code",
   "execution_count": 4,
   "id": "e65a0dac-0f0a-4037-a8ac-282d0f7763cf",
   "metadata": {
    "scrolled": true
   },
   "outputs": [],
   "source": [
    "\"\"\"\n",
    "Ячейка отвечает за генерацию и тестирование графа.\n",
    "\"\"\"\n",
    "\n",
    "data_pa = {\n",
    "    'Source': [1, 2, 3],\n",
    "    'Target': [2, 3, 1],\n",
    "}\n",
    "\n",
    "row_labels = [1, 2, 3]\n",
    "\n",
    "PA_graph = pd.DataFrame(data=data_pa, index=row_labels)\n",
    "\n",
    "G_pa = nx.Graph()\n",
    "G_pa.add_edges_from(PA_graph.values.tolist())\n",
    "\n",
    "\n",
    "num_neigh = 5\n",
    "num_nodes = 1000\n",
    "blocks = 20\n",
    "folder_name = \"PA\"\n",
    "\n",
    "if (False):\n",
    "    G_pa_1 = gen_save_PA(G_pa, num_nodes, num_neigh, blocks, folder_name)\n",
    "    print(G_pa_1)"
   ]
  },
  {
   "cell_type": "markdown",
   "id": "eb6e559b-3e5b-40ae-87b3-06d71929ef83",
   "metadata": {},
   "source": [
    "<span style=\"color:orange\">\n",
    "    \n",
    "## PA_2 ##"
   ]
  },
  {
   "cell_type": "code",
   "execution_count": 11,
   "id": "92a792a7-63e9-4aec-9985-a9740d913793",
   "metadata": {},
   "outputs": [
    {
     "name": "stdout",
     "output_type": "stream",
     "text": [
      "3\n"
     ]
    },
    {
     "name": "stderr",
     "output_type": "stream",
     "text": [
      "100%|█████████████████████████████████████████████████████████████████████████████████████████████████████████████████| 999/999 [00:01<00:00, 600.02it/s]\n"
     ]
    },
    {
     "name": "stdout",
     "output_type": "stream",
     "text": [
      "1002\n"
     ]
    },
    {
     "name": "stderr",
     "output_type": "stream",
     "text": [
      "100%|█████████████████████████████████████████████████████████████████████████████████████████████████████████████████| 999/999 [00:05<00:00, 196.81it/s]\n"
     ]
    },
    {
     "name": "stdout",
     "output_type": "stream",
     "text": [
      "2001\n"
     ]
    },
    {
     "name": "stderr",
     "output_type": "stream",
     "text": [
      "100%|█████████████████████████████████████████████████████████████████████████████████████████████████████████████████| 999/999 [00:08<00:00, 116.39it/s]\n"
     ]
    },
    {
     "name": "stdout",
     "output_type": "stream",
     "text": [
      "3000\n"
     ]
    },
    {
     "name": "stderr",
     "output_type": "stream",
     "text": [
      "100%|██████████████████████████████████████████████████████████████████████████████████████████████████████████████████| 999/999 [00:12<00:00, 81.93it/s]\n"
     ]
    },
    {
     "name": "stdout",
     "output_type": "stream",
     "text": [
      "3999\n"
     ]
    },
    {
     "name": "stderr",
     "output_type": "stream",
     "text": [
      "100%|██████████████████████████████████████████████████████████████████████████████████████████████████████████████████| 999/999 [00:16<00:00, 62.34it/s]\n"
     ]
    },
    {
     "name": "stdout",
     "output_type": "stream",
     "text": [
      "4998\n"
     ]
    },
    {
     "name": "stderr",
     "output_type": "stream",
     "text": [
      "100%|██████████████████████████████████████████████████████████████████████████████████████████████████████████████████| 999/999 [00:20<00:00, 49.92it/s]\n"
     ]
    },
    {
     "name": "stdout",
     "output_type": "stream",
     "text": [
      "5997\n"
     ]
    },
    {
     "name": "stderr",
     "output_type": "stream",
     "text": [
      "100%|██████████████████████████████████████████████████████████████████████████████████████████████████████████████████| 999/999 [00:24<00:00, 40.22it/s]\n"
     ]
    },
    {
     "name": "stdout",
     "output_type": "stream",
     "text": [
      "6996\n"
     ]
    },
    {
     "name": "stderr",
     "output_type": "stream",
     "text": [
      "100%|██████████████████████████████████████████████████████████████████████████████████████████████████████████████████| 999/999 [00:29<00:00, 33.55it/s]\n"
     ]
    },
    {
     "name": "stdout",
     "output_type": "stream",
     "text": [
      "7995\n"
     ]
    },
    {
     "name": "stderr",
     "output_type": "stream",
     "text": [
      "100%|██████████████████████████████████████████████████████████████████████████████████████████████████████████████████| 999/999 [00:30<00:00, 32.33it/s]\n"
     ]
    },
    {
     "name": "stdout",
     "output_type": "stream",
     "text": [
      "8994\n"
     ]
    },
    {
     "name": "stderr",
     "output_type": "stream",
     "text": [
      "100%|██████████████████████████████████████████████████████████████████████████████████████████████████████████████████| 999/999 [00:35<00:00, 27.78it/s]\n"
     ]
    },
    {
     "name": "stdout",
     "output_type": "stream",
     "text": [
      "9993\n"
     ]
    },
    {
     "name": "stderr",
     "output_type": "stream",
     "text": [
      "100%|██████████████████████████████████████████████████████████████████████████████████████████████████████████████████| 999/999 [00:28<00:00, 35.09it/s]\n"
     ]
    },
    {
     "name": "stdout",
     "output_type": "stream",
     "text": [
      "10992\n"
     ]
    },
    {
     "name": "stderr",
     "output_type": "stream",
     "text": [
      "100%|██████████████████████████████████████████████████████████████████████████████████████████████████████████████████| 999/999 [00:34<00:00, 29.31it/s]\n"
     ]
    },
    {
     "name": "stdout",
     "output_type": "stream",
     "text": [
      "11991\n"
     ]
    },
    {
     "name": "stderr",
     "output_type": "stream",
     "text": [
      "100%|██████████████████████████████████████████████████████████████████████████████████████████████████████████████████| 999/999 [00:35<00:00, 27.91it/s]\n"
     ]
    },
    {
     "name": "stdout",
     "output_type": "stream",
     "text": [
      "12990\n"
     ]
    },
    {
     "name": "stderr",
     "output_type": "stream",
     "text": [
      "100%|██████████████████████████████████████████████████████████████████████████████████████████████████████████████████| 999/999 [00:38<00:00, 25.86it/s]\n"
     ]
    },
    {
     "name": "stdout",
     "output_type": "stream",
     "text": [
      "13989\n"
     ]
    },
    {
     "name": "stderr",
     "output_type": "stream",
     "text": [
      "100%|██████████████████████████████████████████████████████████████████████████████████████████████████████████████████| 999/999 [00:44<00:00, 22.49it/s]\n"
     ]
    },
    {
     "name": "stdout",
     "output_type": "stream",
     "text": [
      "14988\n"
     ]
    },
    {
     "name": "stderr",
     "output_type": "stream",
     "text": [
      "100%|██████████████████████████████████████████████████████████████████████████████████████████████████████████████████| 999/999 [00:47<00:00, 21.01it/s]\n"
     ]
    },
    {
     "name": "stdout",
     "output_type": "stream",
     "text": [
      "15987\n"
     ]
    },
    {
     "name": "stderr",
     "output_type": "stream",
     "text": [
      "100%|██████████████████████████████████████████████████████████████████████████████████████████████████████████████████| 999/999 [00:51<00:00, 19.55it/s]\n"
     ]
    },
    {
     "name": "stdout",
     "output_type": "stream",
     "text": [
      "16986\n"
     ]
    },
    {
     "name": "stderr",
     "output_type": "stream",
     "text": [
      "100%|██████████████████████████████████████████████████████████████████████████████████████████████████████████████████| 999/999 [00:55<00:00, 18.04it/s]\n"
     ]
    },
    {
     "name": "stdout",
     "output_type": "stream",
     "text": [
      "17985\n"
     ]
    },
    {
     "name": "stderr",
     "output_type": "stream",
     "text": [
      "100%|██████████████████████████████████████████████████████████████████████████████████████████████████████████████████| 999/999 [00:57<00:00, 17.26it/s]\n"
     ]
    },
    {
     "name": "stdout",
     "output_type": "stream",
     "text": [
      "18984\n"
     ]
    },
    {
     "name": "stderr",
     "output_type": "stream",
     "text": [
      "100%|██████████████████████████████████████████████████████████████████████████████████████████████████████████████████| 999/999 [01:03<00:00, 15.73it/s]\n"
     ]
    },
    {
     "name": "stdout",
     "output_type": "stream",
     "text": [
      "Graph with 19983 nodes and 99728 edges\n"
     ]
    }
   ],
   "source": [
    "\"\"\"\n",
    "Ячейка отвечает за генерацию и тестирование графа.\n",
    "\"\"\"\n",
    "\n",
    "data_pa = {\n",
    "    'Source': [1, 2, 3],\n",
    "    'Target': [2, 3, 1],\n",
    "}\n",
    "\n",
    "row_labels = [1, 2, 3]\n",
    "\n",
    "PA_graph = pd.DataFrame(data=data_pa, index=row_labels)\n",
    "\n",
    "G_pa = nx.Graph()\n",
    "G_pa.add_edges_from(PA_graph.values.tolist())\n",
    "\n",
    "\n",
    "num_neigh = 5\n",
    "num_nodes = 1000\n",
    "blocks = [0, 10]\n",
    "blocks1 = [10, 20]\n",
    "folder_name = \"PA_PA_2\"\n",
    "\n",
    "if (False):\n",
    "    G_pa_1 = gen_save_PA_2(G_pa, num_nodes, num_neigh, blocks, folder_name)\n",
    "    print(G_pa_1)\n",
    "\n",
    "if (True):\n",
    "    G_pa_1 = gen_save_PA(G_pa, num_nodes, num_neigh, blocks, folder_name)\n",
    "    G_pa_2 = gen_save_PA_2(G_pa_1, num_nodes, num_neigh, blocks1, folder_name)\n",
    "    print(G_pa_2)"
   ]
  },
  {
   "cell_type": "markdown",
   "id": "7a23aea3-2fb8-4678-87f8-b706fdbb5288",
   "metadata": {},
   "source": [
    "<span style=\"color:orange\">\n",
    "    \n",
    "## CA ##"
   ]
  },
  {
   "cell_type": "code",
   "execution_count": 6,
   "id": "07885b70-d081-42f4-8455-832f4caf69cc",
   "metadata": {},
   "outputs": [],
   "source": [
    "\"\"\"\n",
    "Ячейка отвечает за генерацию и тестирование графа.\n",
    "\"\"\"\n",
    "\n",
    "data_ca = {\n",
    "    'Source': [1, 2, 3],\n",
    "    'Target': [2, 3, 1],\n",
    "}\n",
    "\n",
    "row_labels = [1, 2, 3]\n",
    "\n",
    "CA_graph = pd.DataFrame(data=data_ca, index=row_labels)\n",
    "\n",
    "G_ca = nx.Graph()\n",
    "G_ca.add_edges_from(CA_graph.values.tolist())\n",
    "\n",
    "num_neigh = 5\n",
    "num_nodes = 100\n",
    "\n",
    "\n",
    "if (False):\n",
    "    G_ca_1 = gen_graph_CA(G_ca, num_nodes, num_neigh)\n",
    "    print(G_ca_1)"
   ]
  },
  {
   "cell_type": "markdown",
   "id": "238ff3da-fc78-4201-944b-f12ea07e913d",
   "metadata": {},
   "source": [
    "<span style=\"color:orange\">\n",
    "    \n",
    "## Additional ##"
   ]
  },
  {
   "cell_type": "code",
   "execution_count": 7,
   "id": "de4f3aac-7d07-4184-a2ac-9d85b4ea4a37",
   "metadata": {},
   "outputs": [],
   "source": [
    "if (False):\n",
    "    my_path = os.path.abspath(\"\") + \"/..\"\n",
    "    (nx.to_pandas_edgelist(G_ca)).to_csv(my_path + \"/Data_postproc\" + '/CA_graph.csv', index=False)"
   ]
  }
 ],
 "metadata": {
  "kernelspec": {
   "display_name": "Python 3 (ipykernel)",
   "language": "python",
   "name": "python3"
  },
  "language_info": {
   "codemirror_mode": {
    "name": "ipython",
    "version": 3
   },
   "file_extension": ".py",
   "mimetype": "text/x-python",
   "name": "python",
   "nbconvert_exporter": "python",
   "pygments_lexer": "ipython3",
   "version": "3.11.0rc1"
  }
 },
 "nbformat": 4,
 "nbformat_minor": 5
}
