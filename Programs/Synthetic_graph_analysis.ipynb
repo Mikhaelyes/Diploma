{
 "cells": [
  {
   "cell_type": "code",
   "execution_count": 2,
   "id": "8406203a-c96c-43d6-b811-006b77f0884c",
   "metadata": {},
   "outputs": [],
   "source": [
    "import networkx as nx\n",
    "import pandas as pd\n",
    "import numpy as np\n",
    "import random \n",
    "import scipy.stats as stats\n",
    "import matplotlib.pyplot as plt\n",
    "import sys, os\n",
    "import warnings\n",
    "import processing_module as pm\n",
    "import scipy.stats as stats\n",
    "from tqdm import tqdm\n",
    "\n",
    "warnings.filterwarnings(\"ignore\")"
   ]
  },
  {
   "cell_type": "code",
   "execution_count": null,
   "id": "793d8567-10aa-4ed4-bd1c-bf9e8084cf75",
   "metadata": {},
   "outputs": [],
   "source": [
    "def load_graph_pr(blocks: int, folder_name: str, gen_name: str) -> list:\n",
    "    \"\"\"\n",
    "    Загрузка цепочек данных по пейджрангам по определённым блокам.\n",
    "    \"\"\"\n",
    "    for t in range(0, blocks):\n",
    "        my_path = os.path.abspath(\"\") + \"/..\"\n",
    "        CA_graph_df = pd.read_csv(my_path + \"/Data_postproc/\" + folder_name + \"/Graph\" + gen_name \\\n",
    "                                                   + str(t) + \"_part.csv\")\n",
    "        G_init = nx.from_pandas_edgelist(CA_graph_df)\n",
    "        pr[t] = list((nx.pagerank(G_init)).values())[-num_nodes:-1]\n",
    "    return pr\n",
    "\n",
    "\n",
    "# def load_graph(blocks: int, folder_name: str, gen_name: str) -> nx.Graph:\n",
    "#     \"\"\"\n",
    "#     Загрузка графа.\n",
    "#     \"\"\"\n",
    "#     for t in range(0, blocks):\n",
    "#         my_path = os.path.abspath(\"\") + \"/..\"\n",
    "#         CA_graph_df = pd.read_csv(my_path + \"/Data_postproc/\" + folder_name + \"/Graph\" + gen_name \\\n",
    "#                                                    + str(t) + \"_part.csv\")\n",
    "#         G_init = nx.from_pandas_edgelist(CA_graph_df)\n",
    "#         pr[t] = list((nx.pagerank(G_init)).values())[-num_nodes:-1]\n",
    "#     return pr\n",
    "\n",
    "\n",
    "def load_graph_di(t: int, folder_name: str, gen_name: str) -> nx.DiGraph:\n",
    "    \"\"\"\n",
    "    Загрузка направленного графа.\n",
    "    \"\"\"\n",
    "    my_path = os.path.abspath(\"\") + \"/..\"\n",
    "    CA_graph_df = pd.read_csv(my_path + \"/Data_postproc/\" + folder_name + \"/Graph\" + gen_name \\\n",
    "                                                   + str(t) + \"_part.csv\")\n",
    "    G_init = nx.from_pandas_edgelist(CA_graph_df, source='source', target='target', \\\n",
    "                                   create_using=nx.DiGraph())\n",
    "    return G_init"
   ]
  },
  {
   "cell_type": "markdown",
   "id": "4dd49622-8e21-41f6-8e4e-801022e356d9",
   "metadata": {},
   "source": [
    "<span style=\"color:orange\">\n",
    "    \n",
    "## Graph analysis CA + PA ##"
   ]
  },
  {
   "cell_type": "code",
   "execution_count": 11,
   "id": "5b9f81b3-fc73-4a88-b9b6-2f49b7871d70",
   "metadata": {},
   "outputs": [
    {
     "ename": "NameError",
     "evalue": "name 'pr' is not defined",
     "output_type": "error",
     "traceback": [
      "\u001b[0;31m---------------------------------------------------------------------------\u001b[0m",
      "\u001b[0;31mNameError\u001b[0m                                 Traceback (most recent call last)",
      "Cell \u001b[0;32mIn[11], line 1\u001b[0m\n\u001b[0;32m----> 1\u001b[0m \u001b[38;5;28mprint\u001b[39m(\u001b[38;5;28mlen\u001b[39m(\u001b[43mpr\u001b[49m[\u001b[38;5;241m19\u001b[39m]))\n",
      "\u001b[0;31mNameError\u001b[0m: name 'pr' is not defined"
     ]
    }
   ],
   "source": [
    "print(len(pr[19]))"
   ]
  },
  {
   "cell_type": "code",
   "execution_count": null,
   "id": "3d4f419e-5ae0-4a4d-aa1e-4ac177edcbd3",
   "metadata": {},
   "outputs": [],
   "source": [
    "x_gr = list()\n",
    "y_gr = list()\n",
    "for i in range(blocks):\n",
    "    x = pm.hill(pr[i])\n",
    "    eye_val = (pm.eye_ball(x))[0]\n",
    "    x_gr.append(i)\n",
    "    y_gr.append(eye_val)\n",
    "    print(i, eye_val)"
   ]
  },
  {
   "cell_type": "code",
   "execution_count": null,
   "id": "1d2d94a7-20ef-4bf3-a64b-4e434f96ba94",
   "metadata": {},
   "outputs": [],
   "source": [
    "plt.plot(x_gr, y_gr, marker='o', markersize=7)\n",
    "plt.xlabel('Временной шаг') #Хвостовые ингде\n",
    "plt.ylabel('EVI') #Подпись для оси y\n",
    "plt.title('Зависимость EVI от временного шага') #Название\n",
    "plt.show()"
   ]
  },
  {
   "cell_type": "code",
   "execution_count": null,
   "id": "63306e8f-ec77-4ef8-acec-37139615c82a",
   "metadata": {},
   "outputs": [],
   "source": [
    "med = []\n",
    "for i in range(30):\n",
    "    med.append(np.median(pr[i]))\n",
    "\n",
    "plt.plot(x_gr, med, marker='o', markersize=7)\n",
    "plt.xlabel('Временной блок') #Хвостовые ингде\n",
    "plt.ylabel('Медиана данных в блоке') #Подпись для оси y\n",
    "plt.title('Медиана данных в блоке от времени') #Название\n",
    "plt.show()"
   ]
  },
  {
   "cell_type": "code",
   "execution_count": null,
   "id": "440a4687-38d4-4d59-9ea2-59ebf4df4317",
   "metadata": {},
   "outputs": [],
   "source": [
    "def phillips_loretan(x1, x2):\n",
    "    \"\"\"\n",
    "    Функция теста phillips_loretan для двух последовательностей\n",
    "    \"\"\"\n",
    "    tail_ind_1, tail_num_1 = pm.eye_ball(pm.hill(x1))\n",
    "    tail_ind_2, tail_num_2 = pm.eye_ball(pm.hill(x2))\n",
    "    s = (tail_num_1*(tail_ind_2)**2 * (tail_ind_1/tail_ind_2 - 1)**2)/ \\\n",
    "    (tail_ind_1**2 + (tail_num_1/tail_num_2)*tail_ind_2**2)\n",
    "    return s"
   ]
  },
  {
   "cell_type": "code",
   "execution_count": 12,
   "id": "f2bdd30f-a9f1-4d7b-a667-ad6a4aabe7f8",
   "metadata": {
    "scrolled": true
   },
   "outputs": [
    {
     "ename": "NameError",
     "evalue": "name 'phillips_loretan' is not defined",
     "output_type": "error",
     "traceback": [
      "\u001b[0;31m---------------------------------------------------------------------------\u001b[0m",
      "\u001b[0;31mNameError\u001b[0m                                 Traceback (most recent call last)",
      "Cell \u001b[0;32mIn[12], line 9\u001b[0m\n\u001b[1;32m      6\u001b[0m \u001b[38;5;28;01mfor\u001b[39;00m i \u001b[38;5;129;01min\u001b[39;00m \u001b[38;5;28mrange\u001b[39m(\u001b[38;5;241m0\u001b[39m, \u001b[38;5;241m10\u001b[39m):\n\u001b[1;32m      7\u001b[0m     \u001b[38;5;28;01mfor\u001b[39;00m j \u001b[38;5;129;01min\u001b[39;00m \u001b[38;5;28mrange\u001b[39m(\u001b[38;5;241m0\u001b[39m, \u001b[38;5;241m10\u001b[39m):\n\u001b[1;32m      8\u001b[0m         \u001b[38;5;66;03m# print(i, j, phillips_loretan(pr[i], pr[j]))\u001b[39;00m\n\u001b[0;32m----> 9\u001b[0m         group_1\u001b[38;5;241m.\u001b[39mappend(\u001b[43mphillips_loretan\u001b[49m(pr[i], pr[j]))\n\u001b[1;32m     11\u001b[0m group_1_2 \u001b[38;5;241m=\u001b[39m []\n\u001b[1;32m     12\u001b[0m \u001b[38;5;66;03m# print('\\n')\u001b[39;00m\n",
      "\u001b[0;31mNameError\u001b[0m: name 'phillips_loretan' is not defined"
     ]
    }
   ],
   "source": [
    "\"\"\"\n",
    "Тесты Филлипса Лоретана для разных блоков.\n",
    "\"\"\"\n",
    "\n",
    "group_1 = []\n",
    "for i in range(0, 10):\n",
    "    for j in range(0, 10):\n",
    "        # print(i, j, phillips_loretan(pr[i], pr[j]))\n",
    "        group_1.append(phillips_loretan(pr[i], pr[j]))\n",
    "\n",
    "group_1_2 = []\n",
    "# print('\\n')\n",
    "for i in range(0, 10):\n",
    "    for j in range(10, 20):\n",
    "        # print(i, j, phillips_loretan(pr[i], pr[j]))\n",
    "        group_1_2.append(phillips_loretan(pr[i], pr[j]))\n",
    "\n",
    "group_2 = []\n",
    "# print('\\n')\n",
    "for i in range(10, 20):\n",
    "    for j in range(10, 20):\n",
    "        # print(i, j, phillips_loretan(pr[i], pr[j]))\n",
    "        group_2.append(phillips_loretan(pr[i], pr[j]))\n",
    "\n",
    "print('group_1 \\n', min(group_1), max(group_1), '\\n')\n",
    "print('group_2 \\n', min(group_2), max(group_2), '\\n')\n",
    "print('group_1_2 \\n', min(group_1_2), max(group_1_2), '\\n')"
   ]
  },
  {
   "cell_type": "code",
   "execution_count": 13,
   "id": "f8f3d5a7-2dcd-4b91-889a-0920221e812b",
   "metadata": {},
   "outputs": [
    {
     "ename": "NameError",
     "evalue": "name 'phillips_loretan' is not defined",
     "output_type": "error",
     "traceback": [
      "\u001b[0;31m---------------------------------------------------------------------------\u001b[0m",
      "\u001b[0;31mNameError\u001b[0m                                 Traceback (most recent call last)",
      "Cell \u001b[0;32mIn[13], line 1\u001b[0m\n\u001b[0;32m----> 1\u001b[0m \u001b[43mphillips_loretan\u001b[49m(pr[\u001b[38;5;241m14\u001b[39m], pr[\u001b[38;5;241m15\u001b[39m])\n",
      "\u001b[0;31mNameError\u001b[0m: name 'phillips_loretan' is not defined"
     ]
    }
   ],
   "source": [
    "phillips_loretan(pr[14], pr[15])"
   ]
  },
  {
   "cell_type": "markdown",
   "id": "9caed217-f4d6-4d9d-8f65-b633b5e33d74",
   "metadata": {},
   "source": [
    "<span style=\"color:orange\">\n",
    "    \n",
    "## Graph analysis ABG ##"
   ]
  },
  {
   "cell_type": "code",
   "execution_count": 34,
   "id": "edcfe4f1-c46b-470a-99ba-a926f4ac0500",
   "metadata": {},
   "outputs": [],
   "source": [
    "gen_name = '_ABG'\n",
    "folder_name = \"ABG_graph_3\"\n",
    "t = 3\n",
    "\n",
    "G_ABG_1 = load_graph_di(t, folder_name, gen_name)"
   ]
  },
  {
   "cell_type": "code",
   "execution_count": 35,
   "id": "b0bb6f81-54fd-4e5c-9aeb-9586de5ac00b",
   "metadata": {},
   "outputs": [
    {
     "name": "stdout",
     "output_type": "stream",
     "text": [
      "13622\n"
     ]
    }
   ],
   "source": [
    "print(len(G_ABG_1.nodes()))"
   ]
  },
  {
   "cell_type": "code",
   "execution_count": 36,
   "id": "c09ac33a-a23c-4c2f-98b0-ed9d779433b8",
   "metadata": {},
   "outputs": [
    {
     "name": "stdout",
     "output_type": "stream",
     "text": [
      "graph analysis\n",
      "DiGraph with 13622 nodes and 23414 edges\n",
      "\n",
      " \n",
      " \n",
      " degree analysis\n",
      "    node  node_degree\n",
      "5      6         1318\n",
      "1      2          751\n",
      "3      3          542\n",
      "0      1          495\n",
      "12   166          216\n",
      "20    74          213\n",
      "4     25          166\n",
      "6     42          163\n",
      "19    50          140\n",
      "14    88          106\n",
      "2      0          100\n",
      "13    47           98\n",
      "22    64           95\n",
      "11   164           91\n",
      "40   150           86\n",
      "32   294           69\n",
      "64    96           57\n",
      "30   514           52\n",
      "33   417           49\n",
      "27   408           49\n",
      "\n",
      " \n",
      " \n",
      " Comm len analysis\n",
      "all communities: 4167\n",
      "0 680\n",
      "1 325\n",
      "2 291\n",
      "3 223\n",
      "4 132\n",
      "5 88\n",
      "6 72\n",
      "7 62\n",
      "8 62\n",
      "9 50\n",
      " \n",
      " \n",
      " \n",
      " Comm separeted analysis\n",
      "\n",
      " 0\n",
      "     node  node_degree\n",
      "1       6         1318\n",
      "178   543           11\n",
      "519  9727           10\n",
      "358  1025            9\n",
      "318   922            8\n",
      "\n",
      " 1\n",
      "     node  node_degree\n",
      "0       2          751\n",
      "200   619           15\n",
      "171  2599           12\n",
      "207   651           12\n",
      "142  1455           11\n",
      "\n",
      " 2\n",
      "     node  node_degree\n",
      "0       3          542\n",
      "219  4897           15\n",
      "96    369           14\n",
      "33   1153           14\n",
      "17   1088           13\n",
      "\n",
      " 3\n",
      "     node  node_degree\n",
      "1       1          495\n",
      "83   2242           16\n",
      "201  3524           15\n",
      "177  1933           14\n",
      "123  2841           14\n",
      "\n",
      " 4\n",
      "    node  node_degree\n",
      "16    88          106\n",
      "0      0          100\n",
      "29   136           42\n",
      "4    528           32\n",
      "15    84           32\n"
     ]
    }
   ],
   "source": [
    "print('graph analysis')\n",
    "print(G_ABG_1)\n",
    "\n",
    "# G_ABG_und = G_ABG_1.to_undirected()\n",
    "\n",
    "comm = nx.community.louvain_communities(G_ABG_1, resolution = 1)\n",
    "comm = sorted(comm, key=len, reverse=True)\n",
    "\n",
    "\n",
    "print('\\n \\n \\n degree analysis')\n",
    "in_data = pd.DataFrame(data = G_ABG_1.in_degree(), columns=['node', 'node_degree'])\n",
    "print(in_data.sort_values(by = 'node_degree', ascending = False)[0:20])\n",
    "\n",
    "\n",
    "print('\\n \\n \\n Comm len analysis')\n",
    "print('all communities:', len(comm))\n",
    "for i in range(10):\n",
    "    # if (len(comm[i]) > 0.05 * len(G_ABG_1.nodes())):\n",
    "    #     print(i, len(comm[i]))\n",
    "    print(i, len(comm[i]))\n",
    "# print(comm[1])\n",
    "\n",
    "print(' \\n \\n \\n Comm separeted analysis')\n",
    "in_data = pd.DataFrame(data = G_ABG_1.in_degree(), columns=['node', 'node_degree'])\n",
    "for i in range(5):\n",
    "    ser_comm = pd.DataFrame(data=list(comm[i]), columns=['node'])\n",
    "    print('\\n', i)\n",
    "    print(pd.merge(ser_comm, in_data).sort_values(by = 'node_degree', ascending = False)[0:5])"
   ]
  },
  {
   "cell_type": "markdown",
   "id": "7af39e23-b827-482d-a1a8-49279c0d7aa9",
   "metadata": {},
   "source": [
    "<span style=\"color:orange\">\n",
    "    \n",
    "## Old code ##"
   ]
  },
  {
   "cell_type": "code",
   "execution_count": null,
   "id": "8ea2aa63-be8b-4652-af54-c5fb584d3c19",
   "metadata": {},
   "outputs": [],
   "source": [
    "# for t in range(0, blocks//2):\n",
    "#     G_init = gen_graph_CA(G_init, num_nodes, num_neigh)\n",
    "#     pr[t] = list((nx.pagerank(G_init)).values())[-num_nodes:-1]\n",
    "#     (nx.to_pandas_edgelist(G_init)).to_csv(my_path + \"/Data_postproc\" + \"/Big_graph\" + \"/CA_PA_\" \\\n",
    "#                                                + str(t) + \"_nodes\" + \".csv\", index=False)\n",
    "\n",
    "\n",
    "# for t in range(0, blocks//2):\n",
    "#     my_path = os.path.abspath(\"\") + \"/..\"\n",
    "#     CA_graph_df = pd.read_csv(my_path + \"/Data_postproc\" + \"/Big_graph\" + \"/CA_PA_\" \\\n",
    "#                                                + str(t) + \"_nodes\" + \".csv\")\n",
    "#     G_init = nx.from_pandas_edgelist(CA_graph_df)\n",
    "#     pr[t] = list((nx.pagerank(G_init)).values())[-num_nodes:-1]"
   ]
  },
  {
   "cell_type": "code",
   "execution_count": 6,
   "id": "7265f16a-780e-4c05-830a-b9ddd6877642",
   "metadata": {},
   "outputs": [],
   "source": [
    "# for i in range(len(edges_ca['source'])):\n",
    "#     print(i, edges_ca[edges_ca['source'] == i].size)\n",
    "# print(edges_ca[edges_ca['source'] == 1])"
   ]
  },
  {
   "cell_type": "code",
   "execution_count": 7,
   "id": "e38c51f6-ff4d-412a-97f3-75775611fc1d",
   "metadata": {},
   "outputs": [],
   "source": [
    "# data = {\n",
    "#     'Source': [1, 2],\n",
    "#     'Target': [2, 1],\n",
    "#     'Node_degree': [1, 1]\n",
    "# }\n",
    "\n",
    "# row_labels = [1, 2]\n",
    "\n",
    "# PA_graph = pd.DataFrame(data=data, index=row_labels)\n",
    "\n",
    "# flg_PA = 0\n",
    "\n",
    "# l = []\n",
    "# if(flg_PA == 1):\n",
    "#     for i in tqdm(range(3, 10000)):\n",
    "#         k = (random.choices(PA_graph['Source'].values, weights=PA_graph['Node_degree'].values))[0]\n",
    "#         if (i == 3):\n",
    "#             l = [PA_graph['Source'].values, PA_graph['Node_degree'].values]\n",
    "#         # print(k)\n",
    "#         PA_graph.loc[i] = [i, k, 1]\n",
    "#         PA_graph['Node_degree'][k] += 1\n",
    "\n",
    "# print(l)"
   ]
  },
  {
   "cell_type": "code",
   "execution_count": 49,
   "id": "0e4d6d23-de87-4fa1-8149-7856f5b2aae4",
   "metadata": {},
   "outputs": [],
   "source": [
    "# генерация графа CA старая версия\n",
    "# \n",
    "# if(flg_CA == 1):\n",
    "#     for i in tqdm(range(4, num_nodes_ca)):\n",
    "#         local_calst = list(nx.clustering(G_ca).values())\n",
    "#         for j in range(len(local_calst)):\n",
    "#             local_calst[j] += 0.001\n",
    "#         k = []\n",
    "#         for i1 in range(num_neigh):\n",
    "#             k.append((random.choices(list(nx.clustering(G_ca).keys()), weights=local_calst))[0])\n",
    "#         for i1 in range(num_neigh):\n",
    "#             G_ca.add_edge(k[i1], i)\n"
   ]
  },
  {
   "cell_type": "code",
   "execution_count": null,
   "id": "5ba36feb-34d2-4fbc-91ee-e929ae2313b1",
   "metadata": {},
   "outputs": [],
   "source": [
    "# def gen_graph_ABG(G_input: nx.DiGraph, num_iterations: int, alpha: float, beta: float, \\\n",
    "#                   d_in: float, d_out: float) -> nx.DiGraph:\n",
    "#     \"\"\"\n",
    "#     Функция генерации вершин графа методом альфа, бетта, гамма присоединения.\n",
    "#     Используются библиотеки tqdm, networkx.\n",
    "#     gamma = 1 - (alpha + beta).\n",
    "    \n",
    "#     Input:\n",
    "#         G_input - изначальный ориентированный граф к которому присоединяются новые вершины.\n",
    "#         num_iterations - количество итераций алгоритма.\n",
    "#         alpha - float вероятность.\n",
    "#         beta - float вероятность. \n",
    "#         d_in - float.\n",
    "#         d_out - float.\n",
    "        \n",
    "#     Output:\n",
    "#         Изначальный граф к которому присоеденены вершины.\n",
    "#     \"\"\"\n",
    "#     assert ((alpha + beta) <= 1)\n",
    "\n",
    "#     i_start = len(list(G_input.nodes))\n",
    "#     gamma = 1 - alpha - beta\n",
    "#     print(alpha, beta, gamma, G_input)\n",
    "\n",
    "#     for i in tqdm(range(0, num_iterations + 1)):\n",
    "#         iter_prob = random.choices([1, 2, 3], weights=[alpha, beta, gamma])[0]\n",
    "        \n",
    "#         I_n1 = list(dict(G_input.in_degree()).values())\n",
    "#         O_n1 = list(dict(G_input.out_degree()).values())\n",
    "        \n",
    "#         N_I = list(dict(G_input.in_degree()).keys())\n",
    "#         N_O = list(dict(G_input.out_degree()).keys())\n",
    "        \n",
    "#         N = len(I_n1)\n",
    "#         n = sum(list(dict(G_input.in_degree()).values()))\n",
    "#         u = list(G_input.nodes)[-1] + 1\n",
    "#         num = len(I_n1) + 1\n",
    "\n",
    "#         assert (N_I == N_O)\n",
    "        \n",
    "#         if (iter_prob == 1):\n",
    "#             denominator = n - 1 + d_in * N\n",
    "#             local_eq = []\n",
    "#             for j in range(len(I_n1)):\n",
    "#                 local_eq.append((I_n1[j] + d_in) / denominator)\n",
    "#             w = (random.choices(N_I, weights=local_eq))[0]\n",
    "#             G_input.add_edge(num, w)\n",
    "\n",
    "#         if (iter_prob == 2):\n",
    "#             denominator_1 = n - 1 + d_in * N\n",
    "#             denominator_2 = n - 1 + d_out * N\n",
    "#             local_eq = []\n",
    "#             for j in range(len(I_n1)):\n",
    "#                 local_eq.append(((I_n1[j] + d_in) / denominator_1) * ((O_n1[j] + d_out) / denominator_2))\n",
    "#             w = (random.choices(N_I, weights=local_eq))[0]\n",
    "#             u = (random.choices(N_I, weights=local_eq))[0]\n",
    "#             G_input.add_edge(u, w)\n",
    "        \n",
    "#         if (iter_prob == 3):\n",
    "#             denominator = n - 1 + d_out * N\n",
    "#             local_eq = []\n",
    "#             for j in range(len(O_n1)):\n",
    "#                 local_eq.append((O_n1[j] + d_out) / denominator)\n",
    "#             w = (random.choices(N_O, weights=local_eq))[0]\n",
    "#             G_input.add_edge(w, num)\n",
    "\n",
    "#     return G_input"
   ]
  }
 ],
 "metadata": {
  "kernelspec": {
   "display_name": "Python 3 (ipykernel)",
   "language": "python",
   "name": "python3"
  },
  "language_info": {
   "codemirror_mode": {
    "name": "ipython",
    "version": 3
   },
   "file_extension": ".py",
   "mimetype": "text/x-python",
   "name": "python",
   "nbconvert_exporter": "python",
   "pygments_lexer": "ipython3",
   "version": "3.11.0rc1"
  }
 },
 "nbformat": 4,
 "nbformat_minor": 5
}
