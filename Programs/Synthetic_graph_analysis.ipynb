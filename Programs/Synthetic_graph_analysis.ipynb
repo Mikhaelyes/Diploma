{
 "cells": [
  {
   "cell_type": "code",
   "execution_count": 2,
   "id": "8406203a-c96c-43d6-b811-006b77f0884c",
   "metadata": {},
   "outputs": [],
   "source": [
    "import networkx as nx\n",
    "import pandas as pd\n",
    "import numpy as np\n",
    "import random \n",
    "import scipy.stats as stats\n",
    "import matplotlib.pyplot as plt\n",
    "import sys, os\n",
    "import warnings\n",
    "import processing_module as pm\n",
    "import scipy.stats as stats\n",
    "from tqdm import tqdm\n",
    "\n",
    "warnings.filterwarnings(\"ignore\")"
   ]
  },
  {
   "cell_type": "code",
   "execution_count": 3,
   "id": "793d8567-10aa-4ed4-bd1c-bf9e8084cf75",
   "metadata": {},
   "outputs": [],
   "source": [
    "def load_graph_pr(blocks: int, folder_name: str, gen_name: str) -> list:\n",
    "    \"\"\"\n",
    "    Загрузка цепочек данных по пейджрангам по определённым блокам.\n",
    "    \"\"\"\n",
    "    for t in range(0, blocks):\n",
    "        my_path = os.path.abspath(\"\") + \"/..\"\n",
    "        CA_graph_df = pd.read_csv(my_path + \"/Data_postproc/\" + folder_name + \"/Graph\" + gen_name \\\n",
    "                                                   + str(t) + \"_part.csv\")\n",
    "        G_init = nx.from_pandas_edgelist(CA_graph_df)\n",
    "        pr[t] = list((nx.pagerank(G_init)).values())[-num_nodes:-1]\n",
    "    return pr\n",
    "\n",
    "\n",
    "# def load_graph(blocks: int, folder_name: str, gen_name: str) -> nx.Graph:\n",
    "#     \"\"\"\n",
    "#     Загрузка графа.\n",
    "#     \"\"\"\n",
    "#     for t in range(0, blocks):\n",
    "#         my_path = os.path.abspath(\"\") + \"/..\"\n",
    "#         CA_graph_df = pd.read_csv(my_path + \"/Data_postproc/\" + folder_name + \"/Graph\" + gen_name \\\n",
    "#                                                    + str(t) + \"_part.csv\")\n",
    "#         G_init = nx.from_pandas_edgelist(CA_graph_df)\n",
    "#         pr[t] = list((nx.pagerank(G_init)).values())[-num_nodes:-1]\n",
    "#     return pr\n",
    "\n",
    "\n",
    "def load_graph(t: int, folder_name: str, gen_name: str) -> nx.DiGraph:\n",
    "    \"\"\"\n",
    "    Загрузка направленного графа.\n",
    "    \"\"\"\n",
    "    my_path = os.path.abspath(\"\") + \"/..\"\n",
    "    CA_graph_df = pd.read_csv(my_path + \"/Data_postproc/\" + folder_name + \"/Graph\" + gen_name \\\n",
    "                                                   + str(t) + \"_part.csv\")\n",
    "    G_init = nx.from_pandas_edgelist(CA_graph_df, source='source', target='target', \\\n",
    "                                   create_using=nx.Graph())\n",
    "    return G_init\n",
    "\n",
    "\n",
    "def load_graph_di(t: int, folder_name: str, gen_name: str) -> nx.DiGraph:\n",
    "    \"\"\"\n",
    "    Загрузка направленного графа.\n",
    "    \"\"\"\n",
    "    my_path = os.path.abspath(\"\") + \"/..\"\n",
    "    CA_graph_df = pd.read_csv(my_path + \"/Data_postproc/\" + folder_name + \"/Graph\" + gen_name \\\n",
    "                                                   + str(t) + \"_part.csv\")\n",
    "    G_init = nx.from_pandas_edgelist(CA_graph_df, source='source', target='target', \\\n",
    "                                   create_using=nx.DiGraph())\n",
    "    return G_init"
   ]
  },
  {
   "cell_type": "code",
   "execution_count": 4,
   "id": "7028f357-043d-4eef-91bc-738c5498859e",
   "metadata": {},
   "outputs": [],
   "source": [
    "def graph_nd_analysis(G_CA_1, comm):\n",
    "    print('graph analysis')\n",
    "    print(G_CA_1)\n",
    "    \n",
    "    # G_ABG_und = G_ABG_1.to_undirected()\n",
    "    \n",
    "    comm = sorted(comm, key=len, reverse=True)\n",
    "    \n",
    "    \n",
    "    print('\\n \\n \\n degree analysis')\n",
    "    in_data = pd.DataFrame(data = G_CA_1.degree(), columns=['node', 'node_degree'])\n",
    "    print(in_data.sort_values(by = 'node_degree', ascending = False)[0:20])\n",
    "    \n",
    "    \n",
    "    print('\\n \\n \\n Comm len analysis')\n",
    "    print('all communities:', len(comm))\n",
    "    for i in range(10):\n",
    "        # if (len(comm[i]) > 0.05 * len(G_ABG_1.nodes())):\n",
    "        #     print(i, len(comm[i]))\n",
    "        print(i, len(comm[i]))\n",
    "    # print(comm[1])\n",
    "    \n",
    "    print(' \\n \\n \\n Comm separeted analysis')\n",
    "    in_data = pd.DataFrame(data = G_CA_1.degree(), columns=['node', 'node_degree'])\n",
    "    for i in range(5):\n",
    "        ser_comm = pd.DataFrame(data=list(comm[i]), columns=['node'])\n",
    "        print('\\n', i)\n",
    "        print(pd.merge(ser_comm, in_data).sort_values(by = 'node_degree', ascending = False)[0:5])\n",
    "\n",
    "\n",
    "def pr_comm(G, comm):\n",
    "    page_rank = nx.pagerank(G)\n",
    "    comm_pr = []\n",
    "    for i in comm:\n",
    "        comm_pr.append(page_rank[i])\n",
    "    return comm_pr\n",
    "\n",
    "\n",
    "def matrix_fl_hill(G_CA_1, comm):\n",
    "    list_pr = []\n",
    "    for i in range(5):\n",
    "        list_pr = []\n",
    "        for j in range(5):\n",
    "            list_pr.append(pm.phillips_loretan_hill(pr_comm(G_CA_1, comm[i]), pr_comm(G_CA_1, comm[j])))\n",
    "        print(list_pr)\n",
    "\n",
    "\n",
    "def matrix_fl_mm(G_CA_1, comm):\n",
    "    for i in range(5):\n",
    "        list_pr = []\n",
    "        for j in range(5):\n",
    "            list_pr.append(pm.phillips_loretan_mm(pr_comm(G_CA_1, comm[i]), pr_comm(G_CA_1, comm[j])))\n",
    "        print(list_pr)\n",
    "\n",
    "\n",
    "def matrix_fl_hill_max(G_CA_1, comm):\n",
    "    list_pr = []\n",
    "    for i in range(5):\n",
    "        for j in range(5):\n",
    "            try:\n",
    "                b = pm.phillips_loretan_hill(pr_comm(G_CA_1, comm[i]), pr_comm(G_CA_1, comm[j]))\n",
    "            except ZeroDivisionError:\n",
    "                b = 0\n",
    "            # list_pr.append(pm.phillips_loretan_hill(pr_comm(G_CA_1, comm[i]), pr_comm(G_CA_1, comm[j])))\n",
    "            list_pr.append(b)\n",
    "    return max(list_pr)\n",
    "\n",
    "\n",
    "def matrix_fl_mm_max(G_CA_1, comm):\n",
    "    list_pr = []\n",
    "    for i in range(5):\n",
    "        for j in range(5):\n",
    "            try:\n",
    "                b = pm.phillips_loretan_mm(pr_comm(G_CA_1, comm[i]), pr_comm(G_CA_1, comm[j]))\n",
    "            except ZeroDivisionError:\n",
    "                b = 0\n",
    "            except ValueError:\n",
    "                b = 0\n",
    "            # list_pr.append(pm.phillips_loretan_hill(pr_comm(G_CA_1, comm[i]), pr_comm(G_CA_1, comm[j])))\n",
    "            list_pr.append(b)\n",
    "    return max(list_pr)"
   ]
  },
  {
   "cell_type": "markdown",
   "id": "c352fcb1-3139-4e41-b55f-2a6e43bf0dfb",
   "metadata": {},
   "source": [
    "<span style=\"color:orange\">\n",
    "    \n",
    "## Graph analysis PA_2 communities ##"
   ]
  },
  {
   "cell_type": "code",
   "execution_count": 5,
   "id": "d1abb003-eaba-4bd2-bd5a-67a40bbf5d20",
   "metadata": {},
   "outputs": [],
   "source": [
    "G_PA_1_2 = load_graph(t = 9, folder_name = \"PA_2\", gen_name = '_PA_')\n",
    "comm_pa = nx.community.louvain_communities(G_PA_1_2, resolution = 1)"
   ]
  },
  {
   "cell_type": "code",
   "execution_count": 6,
   "id": "6d8f9cda-d88e-4289-b072-0e842d6066b7",
   "metadata": {},
   "outputs": [
    {
     "name": "stdout",
     "output_type": "stream",
     "text": [
      "graph analysis\n",
      "Graph with 9993 nodes and 49357 edges\n",
      "\n",
      " \n",
      " \n",
      " degree analysis\n",
      "      node  node_degree\n",
      "7       10         2163\n",
      "2        3         1282\n",
      "0        1         1076\n",
      "1077     5          966\n",
      "1        2          853\n",
      "5        7          853\n",
      "6        8          628\n",
      "4        6          564\n",
      "1842     9          524\n",
      "1847    30          479\n",
      "10      17          410\n",
      "9       13          304\n",
      "1078    16          302\n",
      "1844    15          300\n",
      "3        4          285\n",
      "1843    12          270\n",
      "2920    26          258\n",
      "11      18          249\n",
      "2918    14          219\n",
      "3124    33          203\n",
      "\n",
      " \n",
      " \n",
      " Comm len analysis\n",
      "all communities: 17\n",
      "0 977\n",
      "1 951\n",
      "2 950\n",
      "3 775\n",
      "4 742\n",
      "5 704\n",
      "6 674\n",
      "7 541\n",
      "8 526\n",
      "9 522\n",
      " \n",
      " \n",
      " \n",
      " Comm separeted analysis\n",
      "\n",
      " 0\n",
      "    node  node_degree\n",
      "4     10         2163\n",
      "21    41          166\n",
      "26    51          162\n",
      "27    52           73\n",
      "61   133           71\n",
      "\n",
      " 1\n",
      "    node  node_degree\n",
      "0      3         1282\n",
      "24    66          154\n",
      "76   167          105\n",
      "14    49          103\n",
      "59   128           93\n",
      "\n",
      " 2\n",
      "    node  node_degree\n",
      "0      5          966\n",
      "43   103          131\n",
      "9     36          126\n",
      "37    90          116\n",
      "19    47          109\n",
      "\n",
      " 3\n",
      "     node  node_degree\n",
      "4       7          853\n",
      "32     77          134\n",
      "11     21          120\n",
      "93    220           69\n",
      "122   318           60\n",
      "\n",
      " 4\n",
      "    node  node_degree\n",
      "1      2          853\n",
      "18    43          106\n",
      "30    75           96\n",
      "32    78           68\n",
      "68   162           57\n"
     ]
    }
   ],
   "source": [
    "graph_nd_analysis(G_PA_1_2, comm_pa)"
   ]
  },
  {
   "cell_type": "markdown",
   "id": "803364c3-16ce-422d-b0d8-b35bc5d5b933",
   "metadata": {},
   "source": [
    "<span style=\"color:orange\">\n",
    "    \n",
    "## Graph analysis PA_PA_2 communities ##"
   ]
  },
  {
   "cell_type": "code",
   "execution_count": 7,
   "id": "fbd07ed0-f4cd-4aee-845a-16b799380a1d",
   "metadata": {},
   "outputs": [
    {
     "ename": "KeyboardInterrupt",
     "evalue": "",
     "output_type": "error",
     "traceback": [
      "\u001b[0;31m---------------------------------------------------------------------------\u001b[0m",
      "\u001b[0;31mKeyboardInterrupt\u001b[0m                         Traceback (most recent call last)",
      "Cell \u001b[0;32mIn[7], line 13\u001b[0m\n\u001b[1;32m     11\u001b[0m pr \u001b[38;5;241m=\u001b[39m \u001b[38;5;28mlist\u001b[39m((nx\u001b[38;5;241m.\u001b[39mpagerank(G_init))\u001b[38;5;241m.\u001b[39mvalues())\n\u001b[1;32m     12\u001b[0m x \u001b[38;5;241m=\u001b[39m pm\u001b[38;5;241m.\u001b[39mhill(pr)\n\u001b[0;32m---> 13\u001b[0m eye_val \u001b[38;5;241m=\u001b[39m (\u001b[43mpm\u001b[49m\u001b[38;5;241;43m.\u001b[39;49m\u001b[43meye_ball\u001b[49m\u001b[43m(\u001b[49m\u001b[43mx\u001b[49m\u001b[43m)\u001b[49m)[\u001b[38;5;241m0\u001b[39m]\n\u001b[1;32m     14\u001b[0m x_gr\u001b[38;5;241m.\u001b[39mappend(i)\n\u001b[1;32m     15\u001b[0m y_gr\u001b[38;5;241m.\u001b[39mappend(eye_val)\n",
      "File \u001b[0;32m~/ML/Diploma/Programs/processing_module.py:187\u001b[0m, in \u001b[0;36meye_ball\u001b[0;34m(x)\u001b[0m\n\u001b[1;32m    185\u001b[0m eye_int \u001b[38;5;241m=\u001b[39m \u001b[38;5;241m0\u001b[39m\n\u001b[1;32m    186\u001b[0m \u001b[38;5;28;01mfor\u001b[39;00m i \u001b[38;5;129;01min\u001b[39;00m \u001b[38;5;28mrange\u001b[39m(w):\n\u001b[0;32m--> 187\u001b[0m     \u001b[38;5;28;01mif\u001b[39;00m (\u001b[43mnp\u001b[49m\u001b[38;5;241;43m.\u001b[39;49m\u001b[43mabs\u001b[49m\u001b[43m(\u001b[49m\u001b[43mx\u001b[49m\u001b[43m[\u001b[49m\u001b[43mk\u001b[49m\u001b[38;5;241;43m+\u001b[39;49m\u001b[43mi\u001b[49m\u001b[43m]\u001b[49m\u001b[43m \u001b[49m\u001b[38;5;241;43m-\u001b[39;49m\u001b[43m \u001b[49m\u001b[43mx\u001b[49m\u001b[43m[\u001b[49m\u001b[43mk\u001b[49m\u001b[43m]\u001b[49m\u001b[43m)\u001b[49m \u001b[38;5;241m<\u001b[39m e):\n\u001b[1;32m    188\u001b[0m         y \u001b[38;5;241m=\u001b[39m \u001b[38;5;241m1\u001b[39m\n\u001b[1;32m    189\u001b[0m     \u001b[38;5;28;01melse\u001b[39;00m:\n",
      "\u001b[0;31mKeyboardInterrupt\u001b[0m: "
     ]
    }
   ],
   "source": [
    "blocks = 20\n",
    "gen_name = '_PA_'\n",
    "folder_name = \"PA_PA_2\"\n",
    "\n",
    "x_gr = list()\n",
    "y_gr = list()\n",
    "pr = []\n",
    "for i in range(blocks):\n",
    "    pr = []\n",
    "    G_init = load_graph(i, folder_name, gen_name)\n",
    "    pr = list((nx.pagerank(G_init)).values())\n",
    "    x = pm.hill(pr)\n",
    "    eye_val = (pm.eye_ball(x))[0]\n",
    "    x_gr.append(i)\n",
    "    y_gr.append(eye_val)\n",
    "    # print(i, eye_val)"
   ]
  },
  {
   "cell_type": "code",
   "execution_count": null,
   "id": "ef7c200a-feac-441f-bc40-d2aa522e4eda",
   "metadata": {},
   "outputs": [],
   "source": [
    "x_gr = np.linspace(1, 20, 20)\n",
    "plt.plot(x_gr, y_gr, marker='o', markersize=7)\n",
    "plt.xlabel('Временной шаг') #Хвостовые ингде\n",
    "plt.ylabel('EVI') #Подпись для оси y\n",
    "plt.axvline(x = 10, color = 'r', linestyle=\"--\")\n",
    "plt.title('Зависимость EVI от временного шага') #Название\n",
    "plt.show()"
   ]
  },
  {
   "cell_type": "code",
   "execution_count": null,
   "id": "ddabb5f8-e99c-44f5-b5ef-24629c03b77f",
   "metadata": {},
   "outputs": [],
   "source": [
    "list_pl_pr = []\n",
    "for t in range(1, 20):\n",
    "    G_PA_1_t = load_graph(t, folder_name = \"PA_PA_2\", gen_name = '_PA_')\n",
    "    comm_pa_t = nx.community.louvain_communities(G_PA_1_t, resolution = 1)\n",
    "    bal = matrix_fl_hill_max(G_PA_1_t, comm_pa_t)\n",
    "    print(t, bal)\n",
    "    list_pl_pr.append(bal)"
   ]
  },
  {
   "cell_type": "code",
   "execution_count": null,
   "id": "11d42838-452b-4777-b388-364304ab4146",
   "metadata": {},
   "outputs": [],
   "source": [
    "x_gr = np.linspace(1, 19, 19)\n",
    "plt.plot(x_gr, list_pl_pr, marker='o', markersize=7)\n",
    "plt.xlabel('Временной шаг') #Хвостовые ингде\n",
    "plt.ylabel('max FL') #Подпись для оси y\n",
    "plt.axvline(x = 10, color = 'r', linestyle=\"--\")\n",
    "plt.title('Зависимость max FL от временного шага') #Название\n",
    "plt.show()"
   ]
  },
  {
   "cell_type": "markdown",
   "id": "1d4c7625-f19e-4ae8-ad80-0b7c40f35665",
   "metadata": {},
   "source": [
    "<span style=\"color:orange\">\n",
    "    \n",
    "## Graph analysis PA_PA_2_60 communities ##"
   ]
  },
  {
   "cell_type": "code",
   "execution_count": 8,
   "id": "2d7902da-bddf-4a52-8f94-df2c843fa0e4",
   "metadata": {},
   "outputs": [
    {
     "name": "stderr",
     "output_type": "stream",
     "text": [
      " 10%|███████████▌                                                                                                        | 1/10 [01:49<16:22, 109.22s/it]"
     ]
    },
    {
     "name": "stdout",
     "output_type": "stream",
     "text": [
      "50 0.5513478903714173\n"
     ]
    },
    {
     "name": "stderr",
     "output_type": "stream",
     "text": [
      " 20%|███████████████████████▏                                                                                            | 2/10 [03:42<14:50, 111.33s/it]"
     ]
    },
    {
     "name": "stdout",
     "output_type": "stream",
     "text": [
      "51 0.5517299136521192\n"
     ]
    },
    {
     "name": "stderr",
     "output_type": "stream",
     "text": [
      " 30%|██████████████████████████████████▊                                                                                 | 3/10 [05:40<13:21, 114.47s/it]"
     ]
    },
    {
     "name": "stdout",
     "output_type": "stream",
     "text": [
      "52 0.5515119449776407\n"
     ]
    },
    {
     "name": "stderr",
     "output_type": "stream",
     "text": [
      " 40%|██████████████████████████████████████████████▍                                                                     | 4/10 [07:42<11:46, 117.68s/it]"
     ]
    },
    {
     "name": "stdout",
     "output_type": "stream",
     "text": [
      "53 0.5555806804732963\n"
     ]
    },
    {
     "name": "stderr",
     "output_type": "stream",
     "text": [
      " 50%|██████████████████████████████████████████████████████████                                                          | 5/10 [09:47<10:01, 120.36s/it]"
     ]
    },
    {
     "name": "stdout",
     "output_type": "stream",
     "text": [
      "54 0.5531011058714359\n"
     ]
    },
    {
     "name": "stderr",
     "output_type": "stream",
     "text": [
      " 60%|█████████████████████████████████████████████████████████████████████▌                                              | 6/10 [11:59<08:16, 124.13s/it]"
     ]
    },
    {
     "name": "stdout",
     "output_type": "stream",
     "text": [
      "55 0.5506404431809422\n"
     ]
    },
    {
     "name": "stderr",
     "output_type": "stream",
     "text": [
      " 70%|█████████████████████████████████████████████████████████████████████████████████▏                                  | 7/10 [14:14<06:23, 127.76s/it]"
     ]
    },
    {
     "name": "stdout",
     "output_type": "stream",
     "text": [
      "56 0.5494201854559932\n"
     ]
    },
    {
     "name": "stderr",
     "output_type": "stream",
     "text": [
      " 80%|████████████████████████████████████████████████████████████████████████████████████████████▊                       | 8/10 [16:32<04:22, 131.10s/it]"
     ]
    },
    {
     "name": "stdout",
     "output_type": "stream",
     "text": [
      "57 0.552720316323942\n"
     ]
    },
    {
     "name": "stderr",
     "output_type": "stream",
     "text": [
      " 90%|████████████████████████████████████████████████████████████████████████████████████████████████████████▍           | 9/10 [18:57<02:15, 135.20s/it]"
     ]
    },
    {
     "name": "stdout",
     "output_type": "stream",
     "text": [
      "58 0.5545132511955639\n"
     ]
    },
    {
     "name": "stderr",
     "output_type": "stream",
     "text": [
      "100%|███████████████████████████████████████████████████████████████████████████████████████████████████████████████████| 10/10 [21:27<00:00, 128.80s/it]"
     ]
    },
    {
     "name": "stdout",
     "output_type": "stream",
     "text": [
      "59 0.5501791641136276\n"
     ]
    },
    {
     "name": "stderr",
     "output_type": "stream",
     "text": [
      "\n"
     ]
    }
   ],
   "source": [
    "blocks = 60\n",
    "gen_name = '_PA_'\n",
    "folder_name = \"PA_PA_2_60\"\n",
    "\n",
    "x_gr = list()\n",
    "y_gr = list()\n",
    "pr = []\n",
    "for i in tqdm(range(50, 60)):\n",
    "    pr = []\n",
    "    G_init = load_graph(i, folder_name, gen_name)\n",
    "    pr = list((nx.pagerank(G_init)).values())\n",
    "    x = pm.hill(pr)\n",
    "    eye_val = (pm.eye_ball(x))[0]\n",
    "    x_gr.append(i)\n",
    "    y_gr.append(eye_val)\n",
    "    print(i, eye_val)"
   ]
  },
  {
   "cell_type": "code",
   "execution_count": 11,
   "id": "93382a93-71bf-4c0d-8540-de0ba2e05a3b",
   "metadata": {},
   "outputs": [],
   "source": [
    "y_gr = [0.4439634820309468, 0.5053884953500907, 0.48313207584862194, 0.4788011957004077, 0.49782897527278, \\\n",
    "0.48425973185954785, 0.4833135164139506, 0.4965995446759335, 0.4917584250788458, 0.5029401656134143, \\\n",
    "0.5048287548562218, 0.5000168008526069, 0.5046640695869176, 0.4999305635268403, 0.49335549417297475, \\\n",
    "0.4919347452898135, 0.4876633952774112, 0.49194504620432067, 0.49051539865270755, 0.48912296051930326, \\\n",
    "0.48912296051930326, 0.4854103303845321, \\\n",
    "0.490567963799041, 0.486805725811033, 0.4888399899090885, 0.4831373891263322, \\\n",
    "0.4895799248239818, 0.49335416407280697, 0.5003413173473916, 0.49594136201047334, \\\n",
    "0.4969451851172728, 0.507038076305717, 0.5100548112039185, 0.5145577954964082, 0.5119931030815241, \\\n",
    "0.5159576177990441, 0.5137067043254113, \\\n",
    "0.5190714350509875, 0.51872927130273, 0.5234928597721851, \\\n",
    "0.5324379063744562, 0.5310757169618388, 0.5341502200528989, 0.5368283155840334, 0.5325856371737032, 0.5332012504470676, \\\n",
    "0.5410729763753341, 0.5385053864687865, 0.5405454458206904, 0.5442855201053014, \\\n",
    "0.5513478903714173, 0.5517299136521192, 0.5515119449776407, 0.5555806804732963, 0.5531011058714359, \\\n",
    "0.5506404431809422, 0.5494201854559932, \\\n",
    "0.552720316323942, 0.5545132511955639, 0.5501791641136276]"
   ]
  },
  {
   "cell_type": "code",
   "execution_count": 12,
   "id": "c4892ae1-c4f3-46f8-abc9-079f2d5244ef",
   "metadata": {},
   "outputs": [
    {
     "data": {
      "image/png": "[encoded data removed]",
      "text/plain": [
       "<Figure size 640x480 with 1 Axes>"
      ]
     },
     "metadata": {},
     "output_type": "display_data"
    }
   ],
   "source": [
    "x_gr = np.linspace(1, 60, 60)\n",
    "plt.plot(x_gr, y_gr, marker='o', markersize=7)\n",
    "plt.xlabel('Временной шаг') #Хвостовые ингде\n",
    "plt.ylabel('EVI') #Подпись для оси y\n",
    "plt.axvline(x = 30, color = 'r', linestyle=\"--\")\n",
    "plt.title('Зависимость EVI от временного шага') #Название\n",
    "plt.show()"
   ]
  },
  {
   "cell_type": "code",
   "execution_count": 10,
   "id": "60688643-fead-4e83-bca8-3839130531f5",
   "metadata": {},
   "outputs": [
    {
     "name": "stdout",
     "output_type": "stream",
     "text": [
      "[0.5513478903714173, 0.5517299136521192, 0.5515119449776407, 0.5555806804732963, 0.5531011058714359, 0.5506404431809422, 0.5494201854559932, 0.552720316323942, 0.5545132511955639, 0.5501791641136276]\n"
     ]
    }
   ],
   "source": [
    "print(y_gr)"
   ]
  },
  {
   "cell_type": "code",
   "execution_count": null,
   "id": "938b49b5-aba2-4313-a2bd-93a64b2aa7d2",
   "metadata": {},
   "outputs": [],
   "source": [
    "# y_gr (49_59) PA_PA_2_60/\n",
    "\n",
    "# [0.5513478903714173, 0.5517299136521192, 0.5515119449776407, 0.5555806804732963, 0.5531011058714359, \n",
    "# 0.5506404431809422, 0.5494201854559932, \n",
    "# 0.552720316323942, 0.5545132511955639, 0.5501791641136276]\n",
    "\n",
    "# y_gr (40_49) PA_PA_2_60/\n",
    "\n",
    "# [0.5324379063744562, 0.5310757169618388, 0.5341502200528989, 0.5368283155840334, 0.5325856371737032, 0.5332012504470676, \n",
    "#  0.5410729763753341, 0.5385053864687865, 0.5405454458206904, 0.5442855201053014]\n",
    "\n",
    "# y_gr (20_39) PA_PA_2_60/\n",
    "\n",
    "# [0.48912296051930326, 0.4854103303845321, \n",
    "#  0.490567963799041, 0.486805725811033, 0.4888399899090885, 0.4831373891263322, \n",
    "#  0.4895799248239818, 0.49335416407280697, 0.5003413173473916, 0.49594136201047334, \n",
    "#  0.4969451851172728, 0.507038076305717, 0.5100548112039185, 0.5145577954964082, 0.5119931030815241, \n",
    "#  0.5159576177990441, 0.5137067043254113, \n",
    "#  0.5190714350509875, 0.51872927130273, 0.5234928597721851]\n",
    "\n",
    "\n",
    "# y_gr (1_20) PA_PA_2_60/\n",
    "# 0.4439634820309468, 0.5053884953500907, 0.48313207584862194, 0.4788011957004077, 0.49782897527278, \n",
    "# 0.48425973185954785, 0.4833135164139506, 0.4965995446759335, 0.4917584250788458, 0.5029401656134143, \n",
    "# 0.5048287548562218, 0.5000168008526069, 0.5046640695869176, 0.4999305635268403, 0.49335549417297475, \n",
    "# 0.4919347452898135, 0.4876633952774112, 0.49194504620432067, 0.49051539865270755, 0.48912296051930326]"
   ]
  },
  {
   "cell_type": "markdown",
   "id": "4dd49622-8e21-41f6-8e4e-801022e356d9",
   "metadata": {},
   "source": [
    "<span style=\"color:orange\">\n",
    "    \n",
    "## Graph analysis PA communities ##\n",
    "\n",
    "\n",
    "лист максимумов матрицы ФЛ Хилл\n",
    "[3.9929211589591613, 1.537068043531173, 1.2535582478358804, 1.1962130924594834, 0.47798065039378773, 2.267700126909901, 1.1707249676826057, 3.5526622093740023, 0.8969241277684048, 5.0335742848064395, 0.28157516921890835, 4.596634616862973, 10.392920644226177, 0.32621784357381484, 0.9943265789509739, 9.54104051276957, 0.26963331872313423, 0.5717219920149328, 2.6449804483351884]\n",
    "\n",
    "лист максимумов матрицы ФЛ Mixed Moment\n",
    "[2.2301742483782125, 21.208144007991766, 1.60123378221803, 3.2432438516862643, 0.8878690557027957, 5.005301383066537, 2.6904034476064718, 0.7975189277701307, 1.7107489169477657, 1.0358062810422504, 1.2779852855625058, 0.8722357296183573, 1.238176213578582, 3.257286516497264, 1.3189098618681643, 0.34197239552540215, 1.4377260582063536, 32.74796858143472, 1.0807691714192205]"
   ]
  },
  {
   "cell_type": "code",
   "execution_count": 6,
   "id": "3d4f419e-5ae0-4a4d-aa1e-4ac177edcbd3",
   "metadata": {},
   "outputs": [],
   "source": [
    "blocks = 20\n",
    "gen_name = '_PA_'\n",
    "folder_name = \"PA\"\n",
    "\n",
    "x_gr = list()\n",
    "y_gr = list()\n",
    "pr = []\n",
    "for i in range(blocks):\n",
    "    pr = []\n",
    "    G_init = load_graph(i, folder_name, gen_name)\n",
    "    pr = list((nx.pagerank(G_init)).values())\n",
    "    x = pm.hill(pr)\n",
    "    eye_val = (pm.eye_ball(x))[0]\n",
    "    x_gr.append(i)\n",
    "    y_gr.append(eye_val)\n",
    "    # print(i, eye_val)"
   ]
  },
  {
   "cell_type": "code",
   "execution_count": 7,
   "id": "1d2d94a7-20ef-4bf3-a64b-4e434f96ba94",
   "metadata": {
    "scrolled": true
   },
   "outputs": [
    {
     "data": {
      "image/png": "[encoded data removed]",
      "text/plain": [
       "<Figure size 640x480 with 1 Axes>"
      ]
     },
     "metadata": {},
     "output_type": "display_data"
    }
   ],
   "source": [
    "plt.plot(x_gr, y_gr, marker='o', markersize=7)\n",
    "plt.xlabel('Временной шаг') #Хвостовые ингде\n",
    "plt.ylabel('EVI') #Подпись для оси y\n",
    "plt.title('Зависимость EVI от временного шага') #Название\n",
    "plt.show()"
   ]
  },
  {
   "cell_type": "code",
   "execution_count": 26,
   "id": "2b6a9c0c-1b47-447b-a772-bdf0482c5b84",
   "metadata": {},
   "outputs": [],
   "source": [
    "G_PA_1 = load_graph(t = 10, folder_name = \"PA\", gen_name = '_PA_')\n",
    "comm_pa = nx.community.louvain_communities(G_PA_1, resolution = 1)"
   ]
  },
  {
   "cell_type": "code",
   "execution_count": 27,
   "id": "872c6d04-3646-4844-96ce-e6936a5dbc4e",
   "metadata": {},
   "outputs": [
    {
     "name": "stdout",
     "output_type": "stream",
     "text": [
      "graph analysis\n",
      "Graph with 10992 nodes and 54819 edges\n",
      "\n",
      " \n",
      " \n",
      " degree analysis\n",
      "      node  node_degree\n",
      "2        3          543\n",
      "6       10          386\n",
      "244      9          355\n",
      "422     14          321\n",
      "4        6          295\n",
      "0        1          241\n",
      "423     15          213\n",
      "1134    21          201\n",
      "5        7          197\n",
      "1        2          188\n",
      "427     30          182\n",
      "421     12          174\n",
      "1857    29          158\n",
      "425     23          150\n",
      "246     17          144\n",
      "245     13          142\n",
      "1575    81          139\n",
      "8       16          135\n",
      "1135    32          132\n",
      "435     55          128\n",
      "\n",
      " \n",
      " \n",
      " Comm len analysis\n",
      "all communities: 14\n",
      "0 1994\n",
      "1 1961\n",
      "2 939\n",
      "3 864\n",
      "4 802\n",
      "5 787\n",
      "6 773\n",
      "7 756\n",
      "8 567\n",
      "9 539\n",
      " \n",
      " \n",
      " \n",
      " Comm separeted analysis\n",
      "\n",
      " 0\n",
      "    node  node_degree\n",
      "3      7          197\n",
      "8     29          158\n",
      "12    33          128\n",
      "48    92          123\n",
      "2      5          121\n",
      "\n",
      " 1\n",
      "    node  node_degree\n",
      "1      3          543\n",
      "9     12          174\n",
      "12    16          135\n",
      "2      4          124\n",
      "51    93           96\n",
      "\n",
      " 2\n",
      "    node  node_degree\n",
      "7     21          201\n",
      "13    32          132\n",
      "6     19          120\n",
      "12    27          114\n",
      "39    89          111\n",
      "\n",
      " 3\n",
      "    node  node_degree\n",
      "9     10          386\n",
      "1      1          241\n",
      "27    41          102\n",
      "32    49           99\n",
      "15    20           88\n",
      "\n",
      " 4\n",
      "    node  node_degree\n",
      "8     17          144\n",
      "17    51          105\n",
      "14    39          105\n",
      "13    36           90\n",
      "20    53           73\n"
     ]
    }
   ],
   "source": [
    "graph_nd_analysis(G_PA_1, comm_pa)"
   ]
  },
  {
   "cell_type": "code",
   "execution_count": 28,
   "id": "3fd4127e-db35-4b3a-a51b-334c74b5ee19",
   "metadata": {},
   "outputs": [
    {
     "name": "stdout",
     "output_type": "stream",
     "text": [
      "[0.0, 0.6562548439589764, 1.6727776099742464, 0.05875348496795134, 1.4623917394476768e-05]\n",
      "[0.6562548439589763, 0.0, 0.7058634588761491, 0.7164822078376806, 1.0357921912640906]\n",
      "[1.6727776099742455, 0.7058634588761499, 0.0, 2.7111630402286635, 2.739969442239905]\n",
      "[0.058753484967951415, 0.7164822078376798, 2.711163040228663, 0.0, 0.09062219343730851]\n",
      "[1.462391739447874e-05, 1.0357921912640904, 2.739969442239906, 0.09062219343730867, 0.0]\n",
      "\n",
      "\n",
      "[0.0, 0.009791744036604471, 1.6888763414793972, 0.12844012262409896, 0.1004026721547576]\n",
      "[0.009791744036604565, 0.0, 4.323369572690708, 0.2747434521383019, 0.10393245468315702]\n",
      "[1.6888763414793966, 4.323369572690706, 0.0, 2.6132955681486796, 1.9138051262686135]\n",
      "[0.12844012262409896, 0.2747434521383018, 2.6132955681486787, 0.0, 0.49638525006233586]\n",
      "[0.10040267215475764, 0.10393245468315684, 1.9138051262686144, 0.49638525006233586, 0.0]\n"
     ]
    }
   ],
   "source": [
    "matrix_fl_hill(G_PA_1, comm_pa)\n",
    "print('\\n')\n",
    "matrix_fl_mm(G_PA_1, comm_pa)"
   ]
  },
  {
   "cell_type": "code",
   "execution_count": 46,
   "id": "8d7bc3c3-f0ba-4b28-9efa-52a516a105ff",
   "metadata": {},
   "outputs": [
    {
     "name": "stdout",
     "output_type": "stream",
     "text": [
      "3.9929211589591613\n",
      "1.537068043531173\n",
      "1.2535582478358804\n",
      "1.1962130924594834\n",
      "0.47798065039378773\n",
      "2.267700126909901\n",
      "1.1707249676826057\n",
      "3.5526622093740023\n",
      "0.8969241277684048\n",
      "5.0335742848064395\n",
      "0.28157516921890835\n",
      "4.596634616862973\n",
      "10.392920644226177\n",
      "0.32621784357381484\n",
      "0.9943265789509739\n",
      "9.54104051276957\n",
      "0.26963331872313423\n",
      "0.5717219920149328\n",
      "2.6449804483351884\n"
     ]
    }
   ],
   "source": [
    "list_pl_pr = []\n",
    "for t in range(1, 20):\n",
    "    G_PA_1_t = load_graph(t, folder_name = \"PA\", gen_name = '_PA_')\n",
    "    comm_pa_t = nx.community.louvain_communities(G_PA_1_t, resolution = 1)\n",
    "    bal = matrix_fl_hill_max(G_PA_1_t, comm_pa_t)\n",
    "    list_pl_pr.append(bal)"
   ]
  },
  {
   "cell_type": "code",
   "execution_count": 47,
   "id": "edf33203-be23-49d9-ad66-8252862b8497",
   "metadata": {},
   "outputs": [
    {
     "name": "stdout",
     "output_type": "stream",
     "text": [
      "[3.9929211589591613, 1.537068043531173, 1.2535582478358804, 1.1962130924594834, 0.47798065039378773, 2.267700126909901, 1.1707249676826057, 3.5526622093740023, 0.8969241277684048, 5.0335742848064395, 0.28157516921890835, 4.596634616862973, 10.392920644226177, 0.32621784357381484, 0.9943265789509739, 9.54104051276957, 0.26963331872313423, 0.5717219920149328, 2.6449804483351884]\n"
     ]
    }
   ],
   "source": [
    "print(list_pl_pr)"
   ]
  },
  {
   "cell_type": "code",
   "execution_count": 54,
   "id": "10dd3617-d86a-46fe-b4e9-aa8018d3dc6a",
   "metadata": {},
   "outputs": [
    {
     "name": "stdout",
     "output_type": "stream",
     "text": [
      "2.2301742483782125\n",
      "21.208144007991766\n",
      "1.60123378221803\n",
      "3.2432438516862643\n",
      "0.8878690557027957\n",
      "5.005301383066537\n",
      "2.6904034476064718\n",
      "0.7975189277701307\n",
      "1.7107489169477657\n",
      "1.0358062810422504\n",
      "1.2779852855625058\n",
      "0.8722357296183573\n",
      "1.238176213578582\n",
      "3.257286516497264\n",
      "1.3189098618681643\n",
      "0.34197239552540215\n",
      "1.4377260582063536\n",
      "32.74796858143472\n",
      "1.0807691714192205\n"
     ]
    }
   ],
   "source": [
    "list_pl_pr = []\n",
    "for t in range(1, 20):\n",
    "    G_PA_1_t = load_graph(t, folder_name = \"PA\", gen_name = '_PA_')\n",
    "    comm_pa_t = nx.community.louvain_communities(G_PA_1_t, resolution = 1)\n",
    "    bal = matrix_fl_mm_max(G_PA_1_t, comm_pa_t)\n",
    "    list_pl_pr.append(bal)"
   ]
  },
  {
   "cell_type": "code",
   "execution_count": 55,
   "id": "5025e308-b2d8-4f50-a062-5a68ed842fc5",
   "metadata": {},
   "outputs": [
    {
     "name": "stdout",
     "output_type": "stream",
     "text": [
      "[2.2301742483782125, 21.208144007991766, 1.60123378221803, 3.2432438516862643, 0.8878690557027957, 5.005301383066537, 2.6904034476064718, 0.7975189277701307, 1.7107489169477657, 1.0358062810422504, 1.2779852855625058, 0.8722357296183573, 1.238176213578582, 3.257286516497264, 1.3189098618681643, 0.34197239552540215, 1.4377260582063536, 32.74796858143472, 1.0807691714192205]\n"
     ]
    }
   ],
   "source": [
    "print(list_pl_pr)"
   ]
  },
  {
   "cell_type": "markdown",
   "id": "487c1b21-5674-49a8-ae64-f1baacf3bd26",
   "metadata": {},
   "source": [
    "<span style=\"color:orange\">\n",
    "    \n",
    "## U_x ##"
   ]
  },
  {
   "cell_type": "code",
   "execution_count": 69,
   "id": "e9b9959d-1bd4-4803-99db-4288be51edbe",
   "metadata": {},
   "outputs": [],
   "source": [
    "gen_name = '_CA_'\n",
    "folder_name = \"CA_PA\"\n",
    "i = 10\n",
    "G_init = load_graph(i, folder_name, gen_name)\n",
    "X = list((nx.pagerank(G_init)).values())\n",
    "Xord = np.sort(X, axis=0)\n",
    "\n",
    "MaxN = len(X)\n"
   ]
  },
  {
   "cell_type": "code",
   "execution_count": 71,
   "id": "793dbc26-6d9b-44d4-8f9b-a3aa69359e6b",
   "metadata": {},
   "outputs": [
    {
     "data": {
      "image/png": "[encoded data removed]",
      "text/plain": [
       "<Figure size 640x480 with 1 Axes>"
      ]
     },
     "metadata": {},
     "output_type": "display_data"
    }
   ],
   "source": [
    "arrP = [0.25, 0.75,1, 2, 3, 4, 5, 10, 15, 30] #задание диапозона на p\n",
    "MaxP = len(arrP)\n",
    "n = 0 \n",
    "p = 0 \n",
    "modX = np.zeros((MaxN, MaxP))\n",
    "Rn = np.zeros((MaxN, MaxP))\n",
    "\n",
    "\n",
    "for p in range(0, MaxP):\n",
    "    modX[:, p] = np.power(np.abs(X), arrP[p])\n",
    "    Mn = 0\n",
    "    Sn = 0\n",
    "    for n in range(1, MaxN): \n",
    "        Mn = np.max(modX[0:n, p])\n",
    "        Sn = np.sum(modX[0:n, p])\n",
    "        Rn[n][p] = Mn / Sn\n",
    "\n",
    "\n",
    "pltN = np.arange(1, MaxN+1, 1)\n",
    "legend = []\n",
    "\n",
    "for p in range(0, MaxP):\n",
    "    plt.plot(pltN, Rn[:, p])\n",
    "    legend.append(f\"p={arrP[p]}\")\n",
    "    \n",
    "plt.legend(legend, loc=\"upper left\")\n",
    "plt.xlabel('n') #Подпись для оси х\n",
    "plt.ylabel('Rn(p)') #Подпись для оси y\n",
    "plt.title('Plot of Rn(p) for different p') #Название\n",
    "plt.show()"
   ]
  },
  {
   "cell_type": "code",
   "execution_count": 80,
   "id": "bc95de06-ccfd-4fa8-bf31-57cc9cb19aec",
   "metadata": {},
   "outputs": [
    {
     "ename": "NameError",
     "evalue": "name 'my_path' is not defined",
     "output_type": "error",
     "traceback": [
      "\u001b[0;31m---------------------------------------------------------------------------\u001b[0m",
      "\u001b[0;31mNameError\u001b[0m                                 Traceback (most recent call last)",
      "Cell \u001b[0;32mIn[80], line 24\u001b[0m\n\u001b[1;32m     22\u001b[0m plt\u001b[38;5;241m.\u001b[39mylabel(\u001b[38;5;124m'\u001b[39m\u001b[38;5;124mEn(u)\u001b[39m\u001b[38;5;124m'\u001b[39m) \u001b[38;5;66;03m#Подпись для оси y\u001b[39;00m\n\u001b[1;32m     23\u001b[0m plt\u001b[38;5;241m.\u001b[39mtitle(\u001b[38;5;124m'\u001b[39m\u001b[38;5;124mPlot of En(u)\u001b[39m\u001b[38;5;124m'\u001b[39m) \u001b[38;5;66;03m#Название\u001b[39;00m\n\u001b[0;32m---> 24\u001b[0m plt\u001b[38;5;241m.\u001b[39msavefig(\u001b[43mmy_path\u001b[49m \u001b[38;5;241m+\u001b[39m \u001b[38;5;124m'\u001b[39m\u001b[38;5;124m/Exercise4.png\u001b[39m\u001b[38;5;124m'\u001b[39m)\n\u001b[1;32m     25\u001b[0m plt\u001b[38;5;241m.\u001b[39mshow()\n",
      "\u001b[0;31mNameError\u001b[0m: name 'my_path' is not defined"
     ]
    },
    {
     "data": {
      "image/png": "[encoded data removed]",
      "text/plain": [
       "<Figure size 640x480 with 1 Axes>"
      ]
     },
     "metadata": {},
     "output_type": "display_data"
    }
   ],
   "source": [
    "U = np.linspace(np.min(X), np.max(X), 100)\n",
    "U = U[:-2]\n",
    "En = np.zeros(len(U))\n",
    "SumUp = 0\n",
    "SumDn = 0\n",
    "\n",
    "for u in range (0, len(U)):\n",
    "    SumUp = 0\n",
    "    SumDn = 0\n",
    "    for i in range (0, len(X)):\n",
    "        if (X[i] > U[u]):\n",
    "            SumUp += X[i]\n",
    "            SumDn += 1\n",
    "    En[u] = SumUp / SumDn\n",
    "\n",
    "\n",
    "pltN = np.arange(1, MaxN+1, 1)\n",
    "legend = []\n",
    "\n",
    "plt.plot(U, En)\n",
    "plt.xlabel('u') #Подпись для оси х\n",
    "plt.ylabel('En(u)') #Подпись для оси y\n",
    "plt.title('Plot of En(u)') #Название\n",
    "plt.savefig(my_path + '/Exercise4.png')\n",
    "plt.show()\n"
   ]
  },
  {
   "cell_type": "code",
   "execution_count": null,
   "id": "cfa8c074-fabd-47e9-b4c3-6d1d099eea5d",
   "metadata": {},
   "outputs": [],
   "source": []
  },
  {
   "cell_type": "code",
   "execution_count": null,
   "id": "63306e8f-ec77-4ef8-acec-37139615c82a",
   "metadata": {},
   "outputs": [],
   "source": [
    "med = []\n",
    "for i in range(30):\n",
    "    med.append(np.median(pr[i]))\n",
    "\n",
    "plt.plot(x_gr, med, marker='o', markersize=7)\n",
    "plt.xlabel('Временной блок') #Хвостовые ингде\n",
    "plt.ylabel('Медиана данных в блоке') #Подпись для оси y\n",
    "plt.title('Медиана данных в блоке от времени') #Название\n",
    "plt.show()"
   ]
  },
  {
   "cell_type": "code",
   "execution_count": null,
   "id": "f2bdd30f-a9f1-4d7b-a667-ad6a4aabe7f8",
   "metadata": {
    "scrolled": true
   },
   "outputs": [],
   "source": [
    "\"\"\"\n",
    "Тесты Филлипса Лоретана для разных блоков.\n",
    "\"\"\"\n",
    "\n",
    "group_1 = []\n",
    "for i in range(0, 10):\n",
    "    for j in range(0, 10):\n",
    "        # print(i, j, phillips_loretan(pr[i], pr[j]))\n",
    "        group_1.append(phillips_loretan(pr[i], pr[j]))\n",
    "\n",
    "group_1_2 = []\n",
    "# print('\\n')\n",
    "for i in range(0, 10):\n",
    "    for j in range(10, 20):\n",
    "        # print(i, j, phillips_loretan(pr[i], pr[j]))\n",
    "        group_1_2.append(phillips_loretan(pr[i], pr[j]))\n",
    "\n",
    "group_2 = []\n",
    "# print('\\n')\n",
    "for i in range(10, 20):\n",
    "    for j in range(10, 20):\n",
    "        # print(i, j, phillips_loretan(pr[i], pr[j]))\n",
    "        group_2.append(phillips_loretan(pr[i], pr[j]))\n",
    "\n",
    "print('group_1 \\n', min(group_1), max(group_1), '\\n')\n",
    "print('group_2 \\n', min(group_2), max(group_2), '\\n')\n",
    "print('group_1_2 \\n', min(group_1_2), max(group_1_2), '\\n')"
   ]
  },
  {
   "cell_type": "code",
   "execution_count": null,
   "id": "f8f3d5a7-2dcd-4b91-889a-0920221e812b",
   "metadata": {},
   "outputs": [],
   "source": [
    "phillips_loretan(pr[14], pr[15])"
   ]
  },
  {
   "cell_type": "markdown",
   "id": "9caed217-f4d6-4d9d-8f65-b633b5e33d74",
   "metadata": {},
   "source": [
    "<span style=\"color:orange\">\n",
    "    \n",
    "## Graph analysis ABG ##"
   ]
  },
  {
   "cell_type": "code",
   "execution_count": 12,
   "id": "edcfe4f1-c46b-470a-99ba-a926f4ac0500",
   "metadata": {},
   "outputs": [],
   "source": [
    "gen_name = '_ABG'\n",
    "folder_name = \"ABG_graph_2\"\n",
    "t = 3\n",
    "\n",
    "G_ABG_1 = load_graph_di(t, folder_name, gen_name)"
   ]
  },
  {
   "cell_type": "code",
   "execution_count": 13,
   "id": "b0bb6f81-54fd-4e5c-9aeb-9586de5ac00b",
   "metadata": {},
   "outputs": [
    {
     "name": "stdout",
     "output_type": "stream",
     "text": [
      "6777\n"
     ]
    }
   ],
   "source": [
    "print(len(G_ABG_1.nodes()))"
   ]
  },
  {
   "cell_type": "code",
   "execution_count": 16,
   "id": "c09ac33a-a23c-4c2f-98b0-ed9d779433b8",
   "metadata": {
    "scrolled": true
   },
   "outputs": [
    {
     "name": "stdout",
     "output_type": "stream",
     "text": [
      "graph analysis\n",
      "DiGraph with 6777 nodes and 13357 edges\n",
      "\n",
      " \n",
      " \n",
      " degree analysis\n",
      "    node  node_degree\n",
      "7     16          444\n",
      "5     45          427\n",
      "23    54          422\n",
      "0      1          329\n",
      "2      3          311\n",
      "4     42          289\n",
      "3     10          241\n",
      "1      2          135\n",
      "17    79          117\n",
      "26    66           95\n",
      "21   139           93\n",
      "18   309           92\n",
      "53   217           87\n",
      "46    61           74\n",
      "35    72           69\n",
      "14    96           65\n",
      "47   305           63\n",
      "39   165           58\n",
      "32   414           55\n",
      "22   426           51\n",
      "\n",
      " \n",
      " \n",
      " Comm len analysis\n",
      "all communities: 1990\n",
      "0 167\n",
      "1 166\n",
      "2 165\n",
      "3 144\n",
      "4 120\n",
      "5 109\n",
      "6 94\n",
      "7 67\n",
      "8 65\n",
      "9 46\n",
      " \n",
      " \n",
      " \n",
      " Comm separeted analysis\n",
      "\n",
      " 0\n",
      "     node  node_degree\n",
      "19     54          422\n",
      "16    554           12\n",
      "131   399           11\n",
      "38   1130           10\n",
      "105  2890           10\n",
      "\n",
      " 1\n",
      "     node  node_degree\n",
      "16     45          427\n",
      "55    688           16\n",
      "119  1381           13\n",
      "5    7182            9\n",
      "107  3919            8\n",
      "\n",
      " 2\n",
      "     node  node_degree\n",
      "4      16          444\n",
      "111  4441           12\n",
      "137  8103           11\n",
      "126   910           10\n",
      "68   2230            9\n",
      "\n",
      " 3\n",
      "     node  node_degree\n",
      "1       3          311\n",
      "44    133           15\n",
      "4     523           12\n",
      "103  7002            9\n",
      "50   2204            9\n",
      "\n",
      " 4\n",
      "     node  node_degree\n",
      "0       1          329\n",
      "48    365           17\n",
      "41   3166           15\n",
      "65   1151           11\n",
      "105   728           10\n"
     ]
    }
   ],
   "source": [
    "print('graph analysis')\n",
    "print(G_ABG_1)\n",
    "\n",
    "# G_ABG_und = G_ABG_1.to_undirected()\n",
    "\n",
    "comm = nx.community.louvain_communities(G_ABG_1, resolution = 1)\n",
    "comm = sorted(comm, key=len, reverse=True)\n",
    "\n",
    "\n",
    "print('\\n \\n \\n degree analysis')\n",
    "in_data = pd.DataFrame(data = G_ABG_1.in_degree(), columns=['node', 'node_degree'])\n",
    "print(in_data.sort_values(by = 'node_degree', ascending = False)[0:20])\n",
    "\n",
    "\n",
    "print('\\n \\n \\n Comm len analysis')\n",
    "print('all communities:', len(comm))\n",
    "for i in range(10):\n",
    "    # if (len(comm[i]) > 0.05 * len(G_ABG_1.nodes())):\n",
    "    #     print(i, len(comm[i]))\n",
    "    print(i, len(comm[i]))\n",
    "# print(comm[1])\n",
    "\n",
    "print(' \\n \\n \\n Comm separeted analysis')\n",
    "in_data = pd.DataFrame(data = G_ABG_1.in_degree(), columns=['node', 'node_degree'])\n",
    "for i in range(5):\n",
    "    ser_comm = pd.DataFrame(data=list(comm[i]), columns=['node'])\n",
    "    print('\\n', i)\n",
    "    print(pd.merge(ser_comm, in_data).sort_values(by = 'node_degree', ascending = False)[0:5])"
   ]
  },
  {
   "cell_type": "markdown",
   "id": "f06d4821-7e0a-4de1-9c82-33bbe4805e6c",
   "metadata": {},
   "source": [
    "<span style=\"color:orange\">\n",
    "    \n",
    "## Graph analysis CA communities ##"
   ]
  },
  {
   "cell_type": "code",
   "execution_count": 33,
   "id": "ac7a6327-fe9c-410d-987f-9c92d47d7935",
   "metadata": {},
   "outputs": [],
   "source": [
    "gen_name = '_CA_'\n",
    "folder_name = \"CA_PA\"\n",
    "t = 19\n",
    "\n",
    "G_CA_1 = load_graph(t, folder_name, gen_name)\n",
    "comm = nx.community.louvain_communities(G_CA_1, resolution = 1)"
   ]
  },
  {
   "cell_type": "code",
   "execution_count": 35,
   "id": "04e865e7-0cd4-44b6-8d63-da83bbdca20a",
   "metadata": {},
   "outputs": [
    {
     "name": "stdout",
     "output_type": "stream",
     "text": [
      "graph analysis\n",
      "Graph with 7983 nodes and 39743 edges\n",
      "\n",
      " \n",
      " \n",
      " degree analysis\n",
      "     node  node_degree\n",
      "3       4          120\n",
      "89      6          109\n",
      "2       3          107\n",
      "179    18          103\n",
      "90      8           97\n",
      "1       2           93\n",
      "88      5           91\n",
      "91     19           88\n",
      "0       1           87\n",
      "5      20           87\n",
      "178    17           86\n",
      "177    16           82\n",
      "175     7           81\n",
      "176    11           80\n",
      "92     21           79\n",
      "7      24           78\n",
      "286   173           78\n",
      "458    28           78\n",
      "182    32           77\n",
      "9      36           76\n",
      "\n",
      " \n",
      " \n",
      " Comm len analysis\n",
      "all communities: 19\n",
      "0 1559\n",
      "1 893\n",
      "2 888\n",
      "3 697\n",
      "4 574\n",
      "5 543\n",
      "6 404\n",
      "7 364\n",
      "8 338\n",
      "9 337\n",
      " \n",
      " \n",
      " \n",
      " Comm separeted analysis\n",
      "\n",
      " 0\n",
      "    node  node_degree\n",
      "2      4          120\n",
      "4      6          109\n",
      "1      3          107\n",
      "16    18          103\n",
      "6      8           97\n",
      "\n",
      " 1\n",
      "     node  node_degree\n",
      "55    158           69\n",
      "166   479           57\n",
      "141   391           56\n",
      "77    211           54\n",
      "163   472           54\n",
      "\n",
      " 2\n",
      "     node  node_degree\n",
      "0       1           87\n",
      "19     52           68\n",
      "79    195           67\n",
      "144   357           63\n",
      "63    168           63\n",
      "\n",
      " 3\n",
      "     node  node_degree\n",
      "61    198           56\n",
      "112   381           48\n",
      "411  1268           47\n",
      "151   520           47\n",
      "182   660           45\n",
      "\n",
      " 4\n",
      "     node  node_degree\n",
      "94    387           57\n",
      "273  1057           48\n",
      "122   518           48\n",
      "507  1803           45\n",
      "166   666           42\n"
     ]
    }
   ],
   "source": [
    "graph_nd_analysis(G_CA_1, comm)"
   ]
  },
  {
   "cell_type": "code",
   "execution_count": 38,
   "id": "a34cc8d9-48bd-4f19-a04d-91a155e04b7f",
   "metadata": {},
   "outputs": [
    {
     "name": "stdout",
     "output_type": "stream",
     "text": [
      "[0.0, 0.0004858905570176128, 0.043144215898165035, 0.030973335345655353, 0.1286007286142218]\n",
      "[0.00048589055701762793, 0.0, 0.0609022719994795, 0.02702081851316947, 0.16383546247217862]\n",
      "[0.04314421589816496, 0.060902271999479604, 0.0, 0.21276314887713238, 0.030898219123431367]\n",
      "[0.03097333534565536, 0.027020818513169523, 0.21276314887713216, 0.0, 0.392463702933291]\n",
      "[0.12860072861422178, 0.1638354624721784, 0.030898219123431395, 0.39246370293329075, 0.0]\n",
      "\n",
      "\n",
      "[0.0, 158.82836047511654, 100.06445961994869, 46.885449918741486, 96.50087369779907]\n",
      "[158.82836047511654, 0.0, 45.49427061302913, 111.78823840442296, 21.926707973865888]\n",
      "[100.06445961994869, 45.49427061302912, 0.0, 61.966313593197945, 3.947407228968819]\n",
      "[46.8854499187415, 111.78823840442297, 61.966313593197974, 0.0, 49.47173221637388]\n",
      "[96.50087369779904, 21.926707973865884, 3.947407228968818, 49.471732216373866, 0.0]\n"
     ]
    }
   ],
   "source": [
    "matrix_fl_hill(G_CA_1, comm)\n",
    "print('\\n')\n",
    "matrix_fl_mm(G_CA_1, comm)"
   ]
  },
  {
   "cell_type": "markdown",
   "id": "94201570-a8f2-46f9-8431-4f363f1b1e21",
   "metadata": {},
   "source": [
    "<span style=\"color:orange\">\n",
    "    \n",
    "## Рассуждения над mixed moment ##"
   ]
  },
  {
   "cell_type": "code",
   "execution_count": 9,
   "id": "c96926ae-0435-42da-b2be-430c8ec08f2c",
   "metadata": {},
   "outputs": [],
   "source": [
    "def plot_est_bs(input, name='Hill', print=False):\n",
    "    val_mean = input[0]\n",
    "    val_dn = input[1]\n",
    "    val_up = input[2] \n",
    "    legend = []\n",
    "    n = len(val_mean)\n",
    "\n",
    "    k_find = pm.eye_ball(val_mean)\n",
    "    print(k_find)\n",
    "    y = val_mean[k_find]\n",
    "    x = np.arange(val_up.size)\n",
    "    \n",
    "    plt.plot(val_mean)    \n",
    "    legend.append(f\"{name}'s plot\")\n",
    "    \n",
    "    plt.axhline(y, color = 'r', linestyle=\"--\")\n",
    "    legend.append(f\"Интервал стабильности\")\n",
    "    print(f\"{y} Интервал стабильности\")\n",
    "    plt.plot(x, val_up, 'k--')\n",
    "    plt.plot(x, val_dn, 'k--')\n",
    "\n",
    "    plt.ylim(np.min(val_mean[int(n/20):int(0.95*n)]), np.max(val_mean[int(n/20):int(0.95*n)]))\n",
    "    \n",
    "    plt.xlabel('k') #Подпись для оси х\n",
    "    plt.ylabel(name) #Подпись для оси y\n",
    "    plt.legend(legend, loc=\"upper left\")\n",
    "    plt.title(f\"{name}'s estimator с доверительным интервалом\") #Название\n",
    "    if print:\n",
    "        plt.savefig(my_path + \"/Text\" + '/Imagines' + '/' + name)\n",
    "    \n",
    "    plt.show()"
   ]
  },
  {
   "cell_type": "code",
   "execution_count": 10,
   "id": "414c825f-ae87-4b03-93dd-c42ac5b79798",
   "metadata": {},
   "outputs": [
    {
     "name": "stdout",
     "output_type": "stream",
     "text": [
      "0.23894131816185302\n"
     ]
    }
   ],
   "source": [
    "print(pm.eye_ball(pm.mixed_moment(pr_comm(G_CA_1, comm[7])))[0])"
   ]
  },
  {
   "cell_type": "code",
   "execution_count": 11,
   "id": "8c56b7a3-ca68-42fb-ae10-bcea35c787d9",
   "metadata": {},
   "outputs": [
    {
     "name": "stdout",
     "output_type": "stream",
     "text": [
      "(0.25446181800272694, 30)\n",
      "(0.12446170366979888, 67)\n"
     ]
    }
   ],
   "source": [
    "print(pm.eye_ball(pm.hill(pr_comm(G_CA_1, comm[0]))))\n",
    "print(pm.eye_ball(pm.mixed_moment(pr_comm(G_CA_1, comm[0]))))"
   ]
  },
  {
   "cell_type": "code",
   "execution_count": 12,
   "id": "a1766baf-199e-45c7-b573-56af7f131253",
   "metadata": {},
   "outputs": [],
   "source": [
    "GammaH = pm.hill(pr_comm(G_CA_1, comm[0]))\n",
    "num_gamma = pm.mixed_moment(pr_comm(G_CA_1, comm[0]))"
   ]
  },
  {
   "cell_type": "code",
   "execution_count": 13,
   "id": "30222f0b-5170-41f0-8be9-caf6a651e92f",
   "metadata": {},
   "outputs": [
    {
     "data": {
      "image/png": "[encoded data removed]",
      "text/plain": [
       "<Figure size 640x480 with 1 Axes>"
      ]
     },
     "metadata": {},
     "output_type": "display_data"
    },
    {
     "data": {
      "image/png": "[encoded data removed]",
      "text/plain": [
       "<Figure size 640x480 with 1 Axes>"
      ]
     },
     "metadata": {},
     "output_type": "display_data"
    }
   ],
   "source": [
    "GammaH = pm.hill(pr_comm(G_CA_1, comm[0]))\n",
    "num_gamma = pm.mixed_moment(pr_comm(G_CA_1, comm[0]))\n",
    "\n",
    "MaxN = len(GammaH) \n",
    "MaxK = MaxN\n",
    "\n",
    "PltN = np.arange(1, MaxN+1, 1)\n",
    "PltP = np.arange(0, round(MaxK/4), 1)\n",
    "legend = []\n",
    "\n",
    "plt.plot(PltN, GammaH)\n",
    "plt.xlabel('k') #Подпись для оси х\n",
    "plt.ylabel('GammaH(k)') #Подпись для оси y\n",
    "plt.title('Hills estimator plot 5 упражнения') #Название\n",
    "plt.show()\n",
    "\n",
    "\n",
    "MaxN = len(num_gamma) \n",
    "MaxK = MaxN\n",
    "\n",
    "PltN = np.arange(1, MaxN+1, 1)\n",
    "PltP = np.arange(0, round(MaxK/4), 1)\n",
    "legend = []\n",
    "\n",
    "plt.plot(PltN, num_gamma)\n",
    "plt.xlabel('k') #Подпись для оси х\n",
    "plt.ylabel('num_gamma') #Подпись для оси y\n",
    "plt.title('Hills estimator plot 5 упражнения') #Название\n",
    "plt.ylim(-0.1, 0.5)\n",
    "plt.show()\n"
   ]
  },
  {
   "cell_type": "markdown",
   "id": "7af39e23-b827-482d-a1a8-49279c0d7aa9",
   "metadata": {},
   "source": [
    "<span style=\"color:orange\">\n",
    "    \n",
    "## Old code ##"
   ]
  },
  {
   "cell_type": "code",
   "execution_count": 14,
   "id": "8ea2aa63-be8b-4652-af54-c5fb584d3c19",
   "metadata": {},
   "outputs": [],
   "source": [
    "# for t in range(0, blocks//2):\n",
    "#     G_init = gen_graph_CA(G_init, num_nodes, num_neigh)\n",
    "#     pr[t] = list((nx.pagerank(G_init)).values())[-num_nodes:-1]\n",
    "#     (nx.to_pandas_edgelist(G_init)).to_csv(my_path + \"/Data_postproc\" + \"/Big_graph\" + \"/CA_PA_\" \\\n",
    "#                                                + str(t) + \"_nodes\" + \".csv\", index=False)\n",
    "\n",
    "\n",
    "# for t in range(0, blocks//2):\n",
    "#     my_path = os.path.abspath(\"\") + \"/..\"\n",
    "#     CA_graph_df = pd.read_csv(my_path + \"/Data_postproc\" + \"/Big_graph\" + \"/CA_PA_\" \\\n",
    "#                                                + str(t) + \"_nodes\" + \".csv\")\n",
    "#     G_init = nx.from_pandas_edgelist(CA_graph_df)\n",
    "#     pr[t] = list((nx.pagerank(G_init)).values())[-num_nodes:-1]"
   ]
  },
  {
   "cell_type": "code",
   "execution_count": 15,
   "id": "7265f16a-780e-4c05-830a-b9ddd6877642",
   "metadata": {},
   "outputs": [],
   "source": [
    "# for i in range(len(edges_ca['source'])):\n",
    "#     print(i, edges_ca[edges_ca['source'] == i].size)\n",
    "# print(edges_ca[edges_ca['source'] == 1])"
   ]
  },
  {
   "cell_type": "code",
   "execution_count": 11,
   "id": "e38c51f6-ff4d-412a-97f3-75775611fc1d",
   "metadata": {},
   "outputs": [],
   "source": [
    "# data = {\n",
    "#     'Source': [1, 2],\n",
    "#     'Target': [2, 1],\n",
    "#     'Node_degree': [1, 1]\n",
    "# }\n",
    "\n",
    "# row_labels = [1, 2]\n",
    "\n",
    "# PA_graph = pd.DataFrame(data=data, index=row_labels)\n",
    "\n",
    "# flg_PA = 0\n",
    "\n",
    "# l = []\n",
    "# if(flg_PA == 1):\n",
    "#     for i in tqdm(range(3, 10000)):\n",
    "#         k = (random.choices(PA_graph['Source'].values, weights=PA_graph['Node_degree'].values))[0]\n",
    "#         if (i == 3):\n",
    "#             l = [PA_graph['Source'].values, PA_graph['Node_degree'].values]\n",
    "#         # print(k)\n",
    "#         PA_graph.loc[i] = [i, k, 1]\n",
    "#         PA_graph['Node_degree'][k] += 1\n",
    "\n",
    "# print(l)"
   ]
  },
  {
   "cell_type": "code",
   "execution_count": 12,
   "id": "0e4d6d23-de87-4fa1-8149-7856f5b2aae4",
   "metadata": {},
   "outputs": [],
   "source": [
    "# генерация графа CA старая версия\n",
    "# \n",
    "# if(flg_CA == 1):\n",
    "#     for i in tqdm(range(4, num_nodes_ca)):\n",
    "#         local_calst = list(nx.clustering(G_ca).values())\n",
    "#         for j in range(len(local_calst)):\n",
    "#             local_calst[j] += 0.001\n",
    "#         k = []\n",
    "#         for i1 in range(num_neigh):\n",
    "#             k.append((random.choices(list(nx.clustering(G_ca).keys()), weights=local_calst))[0])\n",
    "#         for i1 in range(num_neigh):\n",
    "#             G_ca.add_edge(k[i1], i)\n"
   ]
  },
  {
   "cell_type": "code",
   "execution_count": 13,
   "id": "5ba36feb-34d2-4fbc-91ee-e929ae2313b1",
   "metadata": {},
   "outputs": [],
   "source": [
    "# def gen_graph_ABG(G_input: nx.DiGraph, num_iterations: int, alpha: float, beta: float, \\\n",
    "#                   d_in: float, d_out: float) -> nx.DiGraph:\n",
    "#     \"\"\"\n",
    "#     Функция генерации вершин графа методом альфа, бетта, гамма присоединения.\n",
    "#     Используются библиотеки tqdm, networkx.\n",
    "#     gamma = 1 - (alpha + beta).\n",
    "    \n",
    "#     Input:\n",
    "#         G_input - изначальный ориентированный граф к которому присоединяются новые вершины.\n",
    "#         num_iterations - количество итераций алгоритма.\n",
    "#         alpha - float вероятность.\n",
    "#         beta - float вероятность. \n",
    "#         d_in - float.\n",
    "#         d_out - float.\n",
    "        \n",
    "#     Output:\n",
    "#         Изначальный граф к которому присоеденены вершины.\n",
    "#     \"\"\"\n",
    "#     assert ((alpha + beta) <= 1)\n",
    "\n",
    "#     i_start = len(list(G_input.nodes))\n",
    "#     gamma = 1 - alpha - beta\n",
    "#     print(alpha, beta, gamma, G_input)\n",
    "\n",
    "#     for i in tqdm(range(0, num_iterations + 1)):\n",
    "#         iter_prob = random.choices([1, 2, 3], weights=[alpha, beta, gamma])[0]\n",
    "        \n",
    "#         I_n1 = list(dict(G_input.in_degree()).values())\n",
    "#         O_n1 = list(dict(G_input.out_degree()).values())\n",
    "        \n",
    "#         N_I = list(dict(G_input.in_degree()).keys())\n",
    "#         N_O = list(dict(G_input.out_degree()).keys())\n",
    "        \n",
    "#         N = len(I_n1)\n",
    "#         n = sum(list(dict(G_input.in_degree()).values()))\n",
    "#         u = list(G_input.nodes)[-1] + 1\n",
    "#         num = len(I_n1) + 1\n",
    "\n",
    "#         assert (N_I == N_O)\n",
    "        \n",
    "#         if (iter_prob == 1):\n",
    "#             denominator = n - 1 + d_in * N\n",
    "#             local_eq = []\n",
    "#             for j in range(len(I_n1)):\n",
    "#                 local_eq.append((I_n1[j] + d_in) / denominator)\n",
    "#             w = (random.choices(N_I, weights=local_eq))[0]\n",
    "#             G_input.add_edge(num, w)\n",
    "\n",
    "#         if (iter_prob == 2):\n",
    "#             denominator_1 = n - 1 + d_in * N\n",
    "#             denominator_2 = n - 1 + d_out * N\n",
    "#             local_eq = []\n",
    "#             for j in range(len(I_n1)):\n",
    "#                 local_eq.append(((I_n1[j] + d_in) / denominator_1) * ((O_n1[j] + d_out) / denominator_2))\n",
    "#             w = (random.choices(N_I, weights=local_eq))[0]\n",
    "#             u = (random.choices(N_I, weights=local_eq))[0]\n",
    "#             G_input.add_edge(u, w)\n",
    "        \n",
    "#         if (iter_prob == 3):\n",
    "#             denominator = n - 1 + d_out * N\n",
    "#             local_eq = []\n",
    "#             for j in range(len(O_n1)):\n",
    "#                 local_eq.append((O_n1[j] + d_out) / denominator)\n",
    "#             w = (random.choices(N_O, weights=local_eq))[0]\n",
    "#             G_input.add_edge(w, num)\n",
    "\n",
    "#     return G_input"
   ]
  },
  {
   "cell_type": "code",
   "execution_count": null,
   "id": "77e63ae8-0fc9-4463-b10f-02a33e0197ef",
   "metadata": {},
   "outputs": [],
   "source": []
  },
  {
   "cell_type": "code",
   "execution_count": null,
   "id": "02877c5f-6c4e-49a5-ad5e-a658c4f93de1",
   "metadata": {},
   "outputs": [],
   "source": []
  },
  {
   "cell_type": "code",
   "execution_count": null,
   "id": "9e0599c0-8de7-4b40-8476-bd3c0749232d",
   "metadata": {},
   "outputs": [],
   "source": []
  }
 ],
 "metadata": {
  "kernelspec": {
   "display_name": "Python 3 (ipykernel)",
   "language": "python",
   "name": "python3"
  },
  "language_info": {
   "codemirror_mode": {
    "name": "ipython",
    "version": 3
   },
   "file_extension": ".py",
   "mimetype": "text/x-python",
   "name": "python",
   "nbconvert_exporter": "python",
   "pygments_lexer": "ipython3",
   "version": "3.11.0rc1"
  }
 },
 "nbformat": 4,
 "nbformat_minor": 5
}
