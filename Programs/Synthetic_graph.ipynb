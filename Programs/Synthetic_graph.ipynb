{
 "cells": [
  {
   "cell_type": "code",
   "execution_count": 1,
   "id": "8406203a-c96c-43d6-b811-006b77f0884c",
   "metadata": {},
   "outputs": [],
   "source": [
    "import networkx as nx\n",
    "import pandas as pd\n",
    "import numpy as np\n",
    "import random \n",
    "import scipy.stats as stats\n",
    "import matplotlib.pyplot as plt\n",
    "import sys, os\n",
    "import warnings\n",
    "import processing_module as pm\n",
    "import scipy.stats as stats\n",
    "from tqdm import tqdm\n",
    "\n",
    "warnings.filterwarnings(\"ignore\")"
   ]
  },
  {
   "cell_type": "markdown",
   "id": "c6b93ec4-64c0-4758-9210-647699dde9c8",
   "metadata": {},
   "source": [
    "<span style=\"color:orange\">\n",
    "    \n",
    "## Preferential attachment ##"
   ]
  },
  {
   "cell_type": "code",
   "execution_count": 2,
   "id": "8fd191ff-8d57-46c0-ab48-bd7452187482",
   "metadata": {},
   "outputs": [],
   "source": [
    "def gen_graph_PA(G_input: nx.Graph, num_nodes: int, num_neigh: int) -> nx.Graph:\n",
    "    \"\"\"\n",
    "    Функция генерации вершин графа методом предпочтительного присоединения.\n",
    "    Используются библиотеки tqdm, networkx.\n",
    "    \n",
    "    Input:\n",
    "        G_input - изначальный неориентированный граф к которому присоединяются новые вершины.\n",
    "        num_nodes - количество присоединяемых вершин.\n",
    "        num_neigh - количество соседий, к которым присоединяется новая вершина.\n",
    "        \n",
    "    Output:\n",
    "        Изначальный неориентированный граф к которому присоеденены вершины.\n",
    "    \"\"\"\n",
    "    i_start = len(list(G_input.nodes))\n",
    "    print(i_start)\n",
    "    for i in tqdm(range(i_start + 1, i_start + num_nodes)):\n",
    "        k = []\n",
    "        for i1 in range(num_neigh):\n",
    "            k.append((random.choices(list(dict(G_input.degree()).keys()), weights=list(dict(G_input.degree()).values())))[0])\n",
    "        for i1 in range(num_neigh):\n",
    "            G_input.add_edge(k[i1], i)     \n",
    "    return G_input"
   ]
  },
  {
   "cell_type": "code",
   "execution_count": 3,
   "id": "881e52cb-e0c9-40c0-8ef1-38761b402a17",
   "metadata": {},
   "outputs": [],
   "source": [
    "\"\"\"\n",
    "Ячейка отвечает за генерацию и тестирование графа.\n",
    "\"\"\"\n",
    "\n",
    "data_pa = {\n",
    "    'Source': [1, 2, 3],\n",
    "    'Target': [2, 3, 1],\n",
    "}\n",
    "\n",
    "row_labels = [1, 2, 3]\n",
    "\n",
    "PA_graph = pd.DataFrame(data=data_pa, index=row_labels)\n",
    "\n",
    "G_pa = nx.Graph()\n",
    "G_pa.add_edges_from(PA_graph.values.tolist())\n",
    "\n",
    "\n",
    "num_neigh = 5\n",
    "num_nodes = 100\n",
    "\n",
    "\n",
    "if (False):\n",
    "    G_pa_1 = gen_graph_PA(G_pa, num_nodes, num_neigh)\n",
    "    print(G_pa_1)"
   ]
  },
  {
   "cell_type": "markdown",
   "id": "f816e8cf-a86c-4793-be37-7ab1cf783d40",
   "metadata": {},
   "source": [
    "<span style=\"color:orange\">\n",
    "    \n",
    "## Clustering attachment ##"
   ]
  },
  {
   "cell_type": "code",
   "execution_count": 4,
   "id": "d58cd650-639b-4398-92b0-0f48d4f45704",
   "metadata": {},
   "outputs": [],
   "source": [
    "def gen_graph_CA(G_input: nx.Graph, num_nodes: int, num_neigh: int) -> nx.Graph:\n",
    "    \"\"\"\n",
    "    Функция генерации вершин графа методом кластерного присоединения.\n",
    "    Используются библиотеки tqdm, networkx.\n",
    "    Содержит циклы так как k.append((random.choices)) может выдавать 2 одинаковых числа. \n",
    "    \n",
    "    Input:\n",
    "        G_input - изначальный неориентированный граф к которому присоединяются новые вершины.\n",
    "        num_nodes - количество присоединяемых вершин.\n",
    "        num_neigh - количество соседий, к которым присоединяется новая вершина.\n",
    "        \n",
    "    Output:\n",
    "        Изначальный неориентированный граф к которому присоеденены вершины.\n",
    "    \"\"\"\n",
    "    i_start = len(list(G_input.nodes))\n",
    "    for i in tqdm(range(i_start + 1, i_start + num_nodes)):\n",
    "        local_calst = list(nx.clustering(G_input).values())\n",
    "        for j in range(len(local_calst)):\n",
    "            local_calst[j] += 0.001\n",
    "        k = []\n",
    "        for i1 in range(num_neigh):\n",
    "            k.append((random.choices(list(nx.clustering(G_input).keys()), weights=local_calst))[0])\n",
    "        for i1 in range(num_neigh):\n",
    "            G_input.add_edge(k[i1], i)\n",
    "    return G_input"
   ]
  },
  {
   "cell_type": "code",
   "execution_count": 5,
   "id": "5970345a-661b-4b55-9b48-7cc30dad6c47",
   "metadata": {},
   "outputs": [],
   "source": [
    "\"\"\"\n",
    "Ячейка отвечает за генерацию и тестирование графа.\n",
    "\"\"\"\n",
    "\n",
    "data_ca = {\n",
    "    'Source': [1, 2, 3],\n",
    "    'Target': [2, 3, 1],\n",
    "}\n",
    "\n",
    "row_labels = [1, 2, 3]\n",
    "\n",
    "CA_graph = pd.DataFrame(data=data_ca, index=row_labels)\n",
    "\n",
    "G_ca = nx.Graph()\n",
    "G_ca.add_edges_from(CA_graph.values.tolist())\n",
    "\n",
    "num_neigh = 5\n",
    "num_nodes = 100\n",
    "\n",
    "\n",
    "if (False):\n",
    "    G_ca_1 = gen_graph_CA(G_ca, num_nodes, num_neigh)\n",
    "    print(G_ca_1)"
   ]
  },
  {
   "cell_type": "code",
   "execution_count": 6,
   "id": "48e93f69-5e2b-4c9b-9789-a7450158bd1c",
   "metadata": {},
   "outputs": [],
   "source": [
    "if (False):\n",
    "    my_path = os.path.abspath(\"\") + \"/..\"\n",
    "    (nx.to_pandas_edgelist(G_ca)).to_csv(my_path + \"/Data_postproc\" + '/CA_graph.csv', index=False)"
   ]
  },
  {
   "cell_type": "markdown",
   "id": "fc50289c-c939-4573-b08b-5152507ecd41",
   "metadata": {},
   "source": [
    "<span style=\"color:orange\">\n",
    "    \n",
    "## Alpha Betta Gamma scheme ##"
   ]
  },
  {
   "cell_type": "code",
   "execution_count": 7,
   "id": "117f9e1b-d6c6-4952-9989-a25293a118cd",
   "metadata": {},
   "outputs": [],
   "source": [
    "def gen_graph_ABG(G_input: nx.DiGraph, num_iterations: int, alpha: float, beta: float, \\\n",
    "                  d_in: float, d_out: float) -> nx.DiGraph:\n",
    "    \"\"\"\n",
    "    Функция генерации вершин графа методом альфа, бетта, гамма присоединения.\n",
    "    Используются библиотеки tqdm, networkx.\n",
    "    gamma = 1 - (alpha + beta).\n",
    "    \n",
    "    Input:\n",
    "        G_input - изначальный ориентированный граф к которому присоединяются новые вершины.\n",
    "        num_iterations - количество итераций алгоритма.\n",
    "        alpha - float вероятность.\n",
    "        beta - float вероятность. \n",
    "        d_in - float.\n",
    "        d_out - float.\n",
    "        \n",
    "    Output:\n",
    "        Изначальный граф к которому присоеденены вершины.\n",
    "    \"\"\"\n",
    "    assert ((alpha + beta) <= 1)\n",
    "\n",
    "    i_start = len(list(G_input.nodes))\n",
    "    gamma = 1 - alpha - beta\n",
    "    print(alpha, beta, gamma, G_input)\n",
    "\n",
    "    for i in tqdm(range(0, num_iterations + 1)):\n",
    "        iter_prob = random.choices([1, 2, 3], weights=[alpha, beta, gamma])[0]\n",
    "        \n",
    "        I_n1 = list(dict(G_input.in_degree()).values())\n",
    "        O_n1 = list(dict(G_input.out_degree()).values())\n",
    "        \n",
    "        N_I = list(dict(G_input.in_degree()).keys())\n",
    "        N_O = list(dict(G_input.out_degree()).keys())\n",
    "        \n",
    "        N = len(I_n1)\n",
    "        n = sum(list(dict(G_input.in_degree()).values()))\n",
    "        u = list(G_input.nodes)[-1] + 1\n",
    "\n",
    "        assert (N_I == N_O)\n",
    "        \n",
    "        if (iter_prob == 1):\n",
    "            denominator = n - 1 + d_in * N\n",
    "            local_eq = []\n",
    "            for j in range(len(I_n1)):\n",
    "                local_eq.append((I_n1[j] + d_in) / denominator)\n",
    "            w = (random.choices(N_I, weights=local_eq))[0]\n",
    "            G_input.add_edge(i, w)\n",
    "\n",
    "        if (iter_prob == 2):\n",
    "            denominator_1 = n - 1 + d_in * N\n",
    "            denominator_2 = n - 1 + d_out * N\n",
    "            local_eq = []\n",
    "            for j in range(len(I_n1)):\n",
    "                local_eq.append(((I_n1[j] + d_in) / denominator_1) * ((O_n1[j] + d_out) / denominator_2))\n",
    "            w = (random.choices(N_I, weights=local_eq))[0]\n",
    "            u = (random.choices(N_I, weights=local_eq))[0]\n",
    "            G_input.add_edge(u, w)\n",
    "        \n",
    "        if (iter_prob == 3):\n",
    "            denominator = n - 1 + d_out * N\n",
    "            local_eq = []\n",
    "            for j in range(len(O_n1)):\n",
    "                local_eq.append((O_n1[j] + d_out) / denominator)\n",
    "            w = (random.choices(N_O, weights=local_eq))[0]\n",
    "            G_input.add_edge(w, i)\n",
    "\n",
    "    return G_input"
   ]
  },
  {
   "cell_type": "code",
   "execution_count": 8,
   "id": "6cbeef94-deb9-4edc-867b-c43d511f68bf",
   "metadata": {},
   "outputs": [],
   "source": [
    "\"\"\"\n",
    "Ячейка отвечает за генерацию и тестирование графа.\n",
    "\"\"\"\n",
    "\n",
    "data_abg = {\n",
    "    'Source': [1, 2, 3],\n",
    "    'Target': [2, 3, 1],\n",
    "}\n",
    "\n",
    "row_labels = [1, 2, 3]\n",
    "\n",
    "ABG_graph = pd.DataFrame(data=data_abg, index=row_labels)\n",
    "\n",
    "G_abg = nx.DiGraph()\n",
    "G_abg.add_edges_from(ABG_graph.values.tolist())\n",
    "\n",
    "num_nodes = 3\n",
    "\n",
    "if (False):\n",
    "    G_abg_1 = gen_graph_ABG(G_abg, num_iterations = 10000, alpha = 0.5, beta = 0.4, d_in = 0.1, d_out = 0.1)"
   ]
  },
  {
   "cell_type": "markdown",
   "id": "5ee8795c-af56-4f58-97f0-5859ffe8e1a5",
   "metadata": {},
   "source": [
    "<span style=\"color:orange\">\n",
    "    \n",
    "## Graph generation ##"
   ]
  },
  {
   "cell_type": "code",
   "execution_count": 11,
   "id": "e9848e56-8114-48ff-a038-969a78979f30",
   "metadata": {},
   "outputs": [],
   "source": [
    "def gen_save_CA(G_input: nx.Graph, num_nodes: int, num_neigh: int, blocks: int, folder_name: str) -> nx.Graph:\n",
    "    \"\"\"\n",
    "    Генерация графа до половины времени по схеме CA.\n",
    "    С автоматическим сохранением снимков графа.\n",
    "    \"\"\"\n",
    "    my_path = os.path.abspath(\"\") + \"/..\"\n",
    "    for t in range(0, blocks):\n",
    "        G_input = gen_graph_CA(G_input, num_nodes, num_neigh)\n",
    "        # pr[t] = list((nx.pagerank(G_init)).values())[-num_nodes:-1]\n",
    "        (nx.to_pandas_edgelist(G_input)).to_csv(my_path + \"/Data_postproc/\" + folder_name + \"/Graph_CA\" \\\n",
    "                                               + str(t) + \"_part.csv\", index=False)\n",
    "    return G_input\n",
    "\n",
    "\n",
    "\n",
    "def gen_save_PA(G_input: nx.Graph, num_nodes: int, num_neigh: int, blocks: int, folder_name: str) -> nx.Graph:\n",
    "    \"\"\"\n",
    "    Генерация графа до половины времени по схеме PA.\n",
    "    С автоматическим сохранением снимков графа.\n",
    "    \"\"\"\n",
    "    my_path = os.path.abspath(\"\") + \"/..\"\n",
    "    for t in range(0, blocks):\n",
    "        G_input = gen_graph_PA(G_input, num_nodes, num_neigh)\n",
    "        # pr[t] = list((nx.pagerank(G_init)).values())[-num_nodes:-1]\n",
    "        (nx.to_pandas_edgelist(G_input)).to_csv(my_path + \"/Data_postproc/\" + folder_name + \"/Graph_PA\" \\\n",
    "                                               + str(t) + \"_part.csv\", index=False)\n",
    "    return G_input\n",
    "\n",
    "\n",
    "def gen_save_ABG(G_input: nx.DiGraph, blocks: int, folder_name: str, param: list) -> nx.DiGraph:\n",
    "    \"\"\"\n",
    "    Генерация графа до половины времени по схеме ABG.\n",
    "    С автоматическим сохранением снимков графа.\n",
    "    param = [num_iterations, alpha, beta, d_in, d_out]\n",
    "    \"\"\"\n",
    "    \n",
    "    num_iterations = param[0]\n",
    "    alpha = param[1]\n",
    "    beta = param[2]\n",
    "    d_in = param[3]\n",
    "    d_out = param[4]\n",
    "    my_path = os.path.abspath(\"\") + \"/..\"\n",
    "    for t in range(0, blocks):\n",
    "        G_input = gen_graph_ABG(G_input, num_iterations, alpha, beta, d_in, d_out)\n",
    "        # pr[t] = list((nx.pagerank(G_init)).values())[-num_nodes:-1]\n",
    "        (nx.to_pandas_edgelist(G_input)).to_csv(my_path + \"/Data_postproc/\" + folder_name + \"/Graph_ABG\" \\\n",
    "                                               + str(t) + \"_part.csv\", index=False)\n",
    "    return G_input\n",
    "\n",
    "\n",
    "def load_graph_pr(blocks: int, folder_name: str, gen_name: str) -> list:\n",
    "    \"\"\"\n",
    "    Загрузка цепочек данных по пейджрангам по определённым блокам.\n",
    "    \"\"\"\n",
    "    for t in range(0, blocks):\n",
    "        my_path = os.path.abspath(\"\") + \"/..\"\n",
    "        CA_graph_df = pd.read_csv(my_path + \"/Data_postproc/\" + folder_name + \"/Graph\" + gen_name \\\n",
    "                                                   + str(t) + \"_part.csv\")\n",
    "        G_init = nx.from_pandas_edgelist(CA_graph_df)\n",
    "        pr[t] = list((nx.pagerank(G_init)).values())[-num_nodes:-1]\n",
    "    return pr\n",
    "\n",
    "\n",
    "def load_graph(blocks: int, folder_name: str, gen_name: str) -> nx.Graph:\n",
    "    \"\"\"\n",
    "    Загрузка графа.\n",
    "    \"\"\"\n",
    "    for t in range(0, blocks):\n",
    "        my_path = os.path.abspath(\"\") + \"/..\"\n",
    "        CA_graph_df = pd.read_csv(my_path + \"/Data_postproc/\" + folder_name + \"/Graph\" + gen_name \\\n",
    "                                                   + str(t) + \"_part.csv\")\n",
    "        G_init = nx.from_pandas_edgelist(CA_graph_df)\n",
    "        pr[t] = list((nx.pagerank(G_init)).values())[-num_nodes:-1]\n",
    "    return pr\n",
    "\n",
    "\n",
    "def load_graph_di(t: int, folder_name: str, gen_name: str) -> nx.DiGraph:\n",
    "    \"\"\"\n",
    "    Загрузка направленного графа.\n",
    "    \"\"\"\n",
    "    my_path = os.path.abspath(\"\") + \"/..\"\n",
    "    CA_graph_df = pd.read_csv(my_path + \"/Data_postproc/\" + folder_name + \"/Graph\" + gen_name \\\n",
    "                                                   + str(t) + \"_part.csv\")\n",
    "    G_init = nx.from_pandas_edgelist(CA_graph_df, source='source', target='target', \\\n",
    "                                   create_using=nx.DiGraph())\n",
    "    return G_init"
   ]
  },
  {
   "cell_type": "code",
   "execution_count": 10,
   "id": "ba8aa972-7d94-45fb-8d8e-1d8ef9a64d11",
   "metadata": {},
   "outputs": [],
   "source": [
    "\"\"\"\n",
    "Ячейка отвечает за генерацию и тестирование графа.\n",
    "\"\"\"\n",
    "\n",
    "data_abg = {\n",
    "    'Source': [1, 2, 3],\n",
    "    'Target': [2, 3, 1],\n",
    "}\n",
    "\n",
    "row_labels = [1, 2, 3]\n",
    "\n",
    "ABG_graph = pd.DataFrame(data=data_abg, index=row_labels)\n",
    "\n",
    "G_abg = nx.DiGraph()\n",
    "G_abg.add_edges_from(ABG_graph.values.tolist())\n",
    "\n",
    "\n",
    "blocks = 10\n",
    "pr = []\n",
    "param = [10000, 0.5, 0.4, 0.1, 0.1]\n",
    "\n",
    "folder_name = \"ABG_graph\"\n",
    "\n",
    "\n",
    "# gen_save_ABG(G_abg, blocks, folder_name, param)"
   ]
  },
  {
   "cell_type": "code",
   "execution_count": null,
   "id": "925a7ce8-a125-4223-9a03-9b5ff076f827",
   "metadata": {},
   "outputs": [],
   "source": []
  },
  {
   "cell_type": "markdown",
   "id": "4dd49622-8e21-41f6-8e4e-801022e356d9",
   "metadata": {},
   "source": [
    "<span style=\"color:orange\">\n",
    "    \n",
    "## Graph analysis CA + PA ##"
   ]
  },
  {
   "cell_type": "code",
   "execution_count": 11,
   "id": "5b9f81b3-fc73-4a88-b9b6-2f49b7871d70",
   "metadata": {},
   "outputs": [
    {
     "ename": "IndexError",
     "evalue": "list index out of range",
     "output_type": "error",
     "traceback": [
      "\u001b[0;31m---------------------------------------------------------------------------\u001b[0m",
      "\u001b[0;31mIndexError\u001b[0m                                Traceback (most recent call last)",
      "Cell \u001b[0;32mIn[11], line 1\u001b[0m\n\u001b[0;32m----> 1\u001b[0m \u001b[38;5;28mprint\u001b[39m(\u001b[38;5;28mlen\u001b[39m(\u001b[43mpr\u001b[49m\u001b[43m[\u001b[49m\u001b[38;5;241;43m19\u001b[39;49m\u001b[43m]\u001b[49m))\n",
      "\u001b[0;31mIndexError\u001b[0m: list index out of range"
     ]
    }
   ],
   "source": [
    "print(len(pr[19]))"
   ]
  },
  {
   "cell_type": "code",
   "execution_count": null,
   "id": "3d4f419e-5ae0-4a4d-aa1e-4ac177edcbd3",
   "metadata": {},
   "outputs": [],
   "source": [
    "x_gr = list()\n",
    "y_gr = list()\n",
    "for i in range(blocks):\n",
    "    x = pm.hill(pr[i])\n",
    "    eye_val = (pm.eye_ball(x))[0]\n",
    "    x_gr.append(i)\n",
    "    y_gr.append(eye_val)\n",
    "    print(i, eye_val)"
   ]
  },
  {
   "cell_type": "code",
   "execution_count": null,
   "id": "1d2d94a7-20ef-4bf3-a64b-4e434f96ba94",
   "metadata": {},
   "outputs": [],
   "source": [
    "plt.plot(x_gr, y_gr, marker='o', markersize=7)\n",
    "plt.xlabel('Временной шаг') #Хвостовые ингде\n",
    "plt.ylabel('EVI') #Подпись для оси y\n",
    "plt.title('Зависимость EVI от временного шага') #Название\n",
    "plt.show()"
   ]
  },
  {
   "cell_type": "code",
   "execution_count": 12,
   "id": "63306e8f-ec77-4ef8-acec-37139615c82a",
   "metadata": {},
   "outputs": [
    {
     "ename": "IndexError",
     "evalue": "list index out of range",
     "output_type": "error",
     "traceback": [
      "\u001b[0;31m---------------------------------------------------------------------------\u001b[0m",
      "\u001b[0;31mIndexError\u001b[0m                                Traceback (most recent call last)",
      "Cell \u001b[0;32mIn[12], line 3\u001b[0m\n\u001b[1;32m      1\u001b[0m med \u001b[38;5;241m=\u001b[39m []\n\u001b[1;32m      2\u001b[0m \u001b[38;5;28;01mfor\u001b[39;00m i \u001b[38;5;129;01min\u001b[39;00m \u001b[38;5;28mrange\u001b[39m(\u001b[38;5;241m30\u001b[39m):\n\u001b[0;32m----> 3\u001b[0m     med\u001b[38;5;241m.\u001b[39mappend(np\u001b[38;5;241m.\u001b[39mmedian(\u001b[43mpr\u001b[49m\u001b[43m[\u001b[49m\u001b[43mi\u001b[49m\u001b[43m]\u001b[49m))\n\u001b[1;32m      5\u001b[0m plt\u001b[38;5;241m.\u001b[39mplot(x_gr, med, marker\u001b[38;5;241m=\u001b[39m\u001b[38;5;124m'\u001b[39m\u001b[38;5;124mo\u001b[39m\u001b[38;5;124m'\u001b[39m, markersize\u001b[38;5;241m=\u001b[39m\u001b[38;5;241m7\u001b[39m)\n\u001b[1;32m      6\u001b[0m plt\u001b[38;5;241m.\u001b[39mxlabel(\u001b[38;5;124m'\u001b[39m\u001b[38;5;124mВременной блок\u001b[39m\u001b[38;5;124m'\u001b[39m) \u001b[38;5;66;03m#Хвостовые ингде\u001b[39;00m\n",
      "\u001b[0;31mIndexError\u001b[0m: list index out of range"
     ]
    }
   ],
   "source": [
    "med = []\n",
    "for i in range(30):\n",
    "    med.append(np.median(pr[i]))\n",
    "\n",
    "plt.plot(x_gr, med, marker='o', markersize=7)\n",
    "plt.xlabel('Временной блок') #Хвостовые ингде\n",
    "plt.ylabel('Медиана данных в блоке') #Подпись для оси y\n",
    "plt.title('Медиана данных в блоке от времени') #Название\n",
    "plt.show()"
   ]
  },
  {
   "cell_type": "code",
   "execution_count": 13,
   "id": "440a4687-38d4-4d59-9ea2-59ebf4df4317",
   "metadata": {},
   "outputs": [],
   "source": [
    "def phillips_loretan(x1, x2):\n",
    "    \"\"\"\n",
    "    Функция теста phillips_loretan для двух последовательностей\n",
    "    \"\"\"\n",
    "    tail_ind_1, tail_num_1 = pm.eye_ball(pm.hill(x1))\n",
    "    tail_ind_2, tail_num_2 = pm.eye_ball(pm.hill(x2))\n",
    "    s = (tail_num_1*(tail_ind_2)**2 * (tail_ind_1/tail_ind_2 - 1)**2)/ \\\n",
    "    (tail_ind_1**2 + (tail_num_1/tail_num_2)*tail_ind_2**2)\n",
    "    return s"
   ]
  },
  {
   "cell_type": "code",
   "execution_count": 14,
   "id": "f2bdd30f-a9f1-4d7b-a667-ad6a4aabe7f8",
   "metadata": {
    "scrolled": true
   },
   "outputs": [
    {
     "ename": "IndexError",
     "evalue": "list index out of range",
     "output_type": "error",
     "traceback": [
      "\u001b[0;31m---------------------------------------------------------------------------\u001b[0m",
      "\u001b[0;31mIndexError\u001b[0m                                Traceback (most recent call last)",
      "Cell \u001b[0;32mIn[14], line 9\u001b[0m\n\u001b[1;32m      6\u001b[0m \u001b[38;5;28;01mfor\u001b[39;00m i \u001b[38;5;129;01min\u001b[39;00m \u001b[38;5;28mrange\u001b[39m(\u001b[38;5;241m0\u001b[39m, \u001b[38;5;241m10\u001b[39m):\n\u001b[1;32m      7\u001b[0m     \u001b[38;5;28;01mfor\u001b[39;00m j \u001b[38;5;129;01min\u001b[39;00m \u001b[38;5;28mrange\u001b[39m(\u001b[38;5;241m0\u001b[39m, \u001b[38;5;241m10\u001b[39m):\n\u001b[1;32m      8\u001b[0m         \u001b[38;5;66;03m# print(i, j, phillips_loretan(pr[i], pr[j]))\u001b[39;00m\n\u001b[0;32m----> 9\u001b[0m         group_1\u001b[38;5;241m.\u001b[39mappend(phillips_loretan(\u001b[43mpr\u001b[49m\u001b[43m[\u001b[49m\u001b[43mi\u001b[49m\u001b[43m]\u001b[49m, pr[j]))\n\u001b[1;32m     11\u001b[0m group_1_2 \u001b[38;5;241m=\u001b[39m []\n\u001b[1;32m     12\u001b[0m \u001b[38;5;66;03m# print('\\n')\u001b[39;00m\n",
      "\u001b[0;31mIndexError\u001b[0m: list index out of range"
     ]
    }
   ],
   "source": [
    "\"\"\"\n",
    "Тесты Филлипса Лоретана для разных блоков.\n",
    "\"\"\"\n",
    "\n",
    "group_1 = []\n",
    "for i in range(0, 10):\n",
    "    for j in range(0, 10):\n",
    "        # print(i, j, phillips_loretan(pr[i], pr[j]))\n",
    "        group_1.append(phillips_loretan(pr[i], pr[j]))\n",
    "\n",
    "group_1_2 = []\n",
    "# print('\\n')\n",
    "for i in range(0, 10):\n",
    "    for j in range(10, 20):\n",
    "        # print(i, j, phillips_loretan(pr[i], pr[j]))\n",
    "        group_1_2.append(phillips_loretan(pr[i], pr[j]))\n",
    "\n",
    "group_2 = []\n",
    "# print('\\n')\n",
    "for i in range(10, 20):\n",
    "    for j in range(10, 20):\n",
    "        # print(i, j, phillips_loretan(pr[i], pr[j]))\n",
    "        group_2.append(phillips_loretan(pr[i], pr[j]))\n",
    "\n",
    "print('group_1 \\n', min(group_1), max(group_1), '\\n')\n",
    "print('group_2 \\n', min(group_2), max(group_2), '\\n')\n",
    "print('group_1_2 \\n', min(group_1_2), max(group_1_2), '\\n')"
   ]
  },
  {
   "cell_type": "code",
   "execution_count": 15,
   "id": "f8f3d5a7-2dcd-4b91-889a-0920221e812b",
   "metadata": {},
   "outputs": [
    {
     "ename": "IndexError",
     "evalue": "list index out of range",
     "output_type": "error",
     "traceback": [
      "\u001b[0;31m---------------------------------------------------------------------------\u001b[0m",
      "\u001b[0;31mIndexError\u001b[0m                                Traceback (most recent call last)",
      "Cell \u001b[0;32mIn[15], line 1\u001b[0m\n\u001b[0;32m----> 1\u001b[0m phillips_loretan(\u001b[43mpr\u001b[49m\u001b[43m[\u001b[49m\u001b[38;5;241;43m14\u001b[39;49m\u001b[43m]\u001b[49m, pr[\u001b[38;5;241m15\u001b[39m])\n",
      "\u001b[0;31mIndexError\u001b[0m: list index out of range"
     ]
    }
   ],
   "source": [
    "phillips_loretan(pr[14], pr[15])"
   ]
  },
  {
   "cell_type": "markdown",
   "id": "9caed217-f4d6-4d9d-8f65-b633b5e33d74",
   "metadata": {},
   "source": [
    "<span style=\"color:orange\">\n",
    "    \n",
    "## Graph analysis ABG ##"
   ]
  },
  {
   "cell_type": "code",
   "execution_count": 12,
   "id": "edcfe4f1-c46b-470a-99ba-a926f4ac0500",
   "metadata": {},
   "outputs": [],
   "source": [
    "blocks = 10\n",
    "pr = []\n",
    "param = [10000, 0.5, 0.4, 0.1, 0.1]\n",
    "\n",
    "folder_name = \"ABG_graph\"\n",
    "gen_name = '_ABG'\n",
    "t = 1\n",
    "\n",
    "G_ABG_1 = load_graph_di(t, folder_name, gen_name)"
   ]
  },
  {
   "cell_type": "code",
   "execution_count": 18,
   "id": "e2da7a01-6b47-4e3f-a738-8e463de4adf9",
   "metadata": {},
   "outputs": [
    {
     "name": "stdout",
     "output_type": "stream",
     "text": [
      "DiGraph with 8365 nodes and 12415 edges\n"
     ]
    }
   ],
   "source": [
    "print(G_ABG_1)\n",
    "comm = nx.community.louvain_communities(G_ABG_1, resolution=1)\n",
    "comm = sorted(comm, key=len, reverse=True)"
   ]
  },
  {
   "cell_type": "code",
   "execution_count": 19,
   "id": "c09ac33a-a23c-4c2f-98b0-ed9d779433b8",
   "metadata": {},
   "outputs": [
    {
     "name": "stdout",
     "output_type": "stream",
     "text": [
      "1971\n",
      "0 351\n",
      "1 333\n",
      "2 325\n",
      "3 282\n",
      "4 63\n",
      "5 46\n",
      "6 41\n",
      "7 38\n",
      "8 38\n",
      "9 37\n"
     ]
    }
   ],
   "source": [
    "print(len(comm))\n",
    "for i in range(10):\n",
    "    print(i, len(comm[i]))"
   ]
  },
  {
   "cell_type": "code",
   "execution_count": 74,
   "id": "c9e79ea8-0b43-457a-84ae-51997bd78ba5",
   "metadata": {},
   "outputs": [
    {
     "name": "stdout",
     "output_type": "stream",
     "text": [
      "\n",
      " 0\n",
      "     node  node_degree\n",
      "0       3         1063\n",
      "199   516            9\n",
      "126   320            7\n",
      "64   2217            5\n",
      "309  9092            2\n",
      "\n",
      " 1\n",
      "     node  node_degree\n",
      "1       1          856\n",
      "122   374           26\n",
      "68    218            9\n",
      "19   1098            9\n",
      "258  1801            8\n",
      "\n",
      " 2\n",
      "     node  node_degree\n",
      "0       0          727\n",
      "30     90           22\n",
      "100   298           14\n",
      "153  1494            7\n",
      "197  2659            4\n",
      "\n",
      " 3\n",
      "     node  node_degree\n",
      "0       2          730\n",
      "22     67           91\n",
      "23     77           21\n",
      "231  1850            5\n",
      "212  7903            3\n",
      "\n",
      " 4\n",
      "    node  node_degree\n",
      "49    99          153\n",
      "23  2858            1\n",
      "0   1281            0\n",
      "46  2528            0\n",
      "34   323            0\n"
     ]
    }
   ],
   "source": [
    "in_data = pd.DataFrame(data = G_ABG_1.in_degree(), columns=['node', 'node_degree'])\n",
    "for i in range(5):\n",
    "    ser_comm = pd.DataFrame(data=list(comm[i]), columns=['node'])\n",
    "    print('\\n', i)\n",
    "    print(pd.merge(ser_comm, in_data).sort_values(by = 'node_degree', ascending = False)[0:5])"
   ]
  },
  {
   "cell_type": "code",
   "execution_count": 77,
   "id": "46539d8a-2cf6-4141-9bc3-ab051e4eeb97",
   "metadata": {},
   "outputs": [
    {
     "name": "stdout",
     "output_type": "stream",
     "text": [
      "     node  node_degree\n",
      "4       3         1063\n",
      "0       1          856\n",
      "1       2          730\n",
      "2       0          727\n",
      "13     99          153\n",
      "6      50          123\n",
      "11    135           94\n",
      "115    67           91\n",
      "29    285           85\n",
      "165    91           82\n",
      "21     27           81\n",
      "323   270           72\n",
      "20     47           72\n",
      "237   973           64\n",
      "18    361           60\n",
      "270    30           60\n",
      "15    377           59\n",
      "9      16           56\n",
      "72    206           47\n",
      "90    235           47\n"
     ]
    }
   ],
   "source": [
    "print(in_data.sort_values(by = 'node_degree', ascending = False)[0:20])"
   ]
  },
  {
   "cell_type": "markdown",
   "id": "7af39e23-b827-482d-a1a8-49279c0d7aa9",
   "metadata": {},
   "source": [
    "<span style=\"color:orange\">\n",
    "    \n",
    "## Old code ##"
   ]
  },
  {
   "cell_type": "code",
   "execution_count": null,
   "id": "8ea2aa63-be8b-4652-af54-c5fb584d3c19",
   "metadata": {},
   "outputs": [],
   "source": [
    "# for t in range(0, blocks//2):\n",
    "#     G_init = gen_graph_CA(G_init, num_nodes, num_neigh)\n",
    "#     pr[t] = list((nx.pagerank(G_init)).values())[-num_nodes:-1]\n",
    "#     (nx.to_pandas_edgelist(G_init)).to_csv(my_path + \"/Data_postproc\" + \"/Big_graph\" + \"/CA_PA_\" \\\n",
    "#                                                + str(t) + \"_nodes\" + \".csv\", index=False)\n",
    "\n",
    "\n",
    "# for t in range(0, blocks//2):\n",
    "#     my_path = os.path.abspath(\"\") + \"/..\"\n",
    "#     CA_graph_df = pd.read_csv(my_path + \"/Data_postproc\" + \"/Big_graph\" + \"/CA_PA_\" \\\n",
    "#                                                + str(t) + \"_nodes\" + \".csv\")\n",
    "#     G_init = nx.from_pandas_edgelist(CA_graph_df)\n",
    "#     pr[t] = list((nx.pagerank(G_init)).values())[-num_nodes:-1]"
   ]
  },
  {
   "cell_type": "code",
   "execution_count": 6,
   "id": "7265f16a-780e-4c05-830a-b9ddd6877642",
   "metadata": {},
   "outputs": [],
   "source": [
    "# for i in range(len(edges_ca['source'])):\n",
    "#     print(i, edges_ca[edges_ca['source'] == i].size)\n",
    "# print(edges_ca[edges_ca['source'] == 1])"
   ]
  },
  {
   "cell_type": "code",
   "execution_count": 7,
   "id": "e38c51f6-ff4d-412a-97f3-75775611fc1d",
   "metadata": {},
   "outputs": [],
   "source": [
    "# data = {\n",
    "#     'Source': [1, 2],\n",
    "#     'Target': [2, 1],\n",
    "#     'Node_degree': [1, 1]\n",
    "# }\n",
    "\n",
    "# row_labels = [1, 2]\n",
    "\n",
    "# PA_graph = pd.DataFrame(data=data, index=row_labels)\n",
    "\n",
    "# flg_PA = 0\n",
    "\n",
    "# l = []\n",
    "# if(flg_PA == 1):\n",
    "#     for i in tqdm(range(3, 10000)):\n",
    "#         k = (random.choices(PA_graph['Source'].values, weights=PA_graph['Node_degree'].values))[0]\n",
    "#         if (i == 3):\n",
    "#             l = [PA_graph['Source'].values, PA_graph['Node_degree'].values]\n",
    "#         # print(k)\n",
    "#         PA_graph.loc[i] = [i, k, 1]\n",
    "#         PA_graph['Node_degree'][k] += 1\n",
    "\n",
    "# print(l)"
   ]
  },
  {
   "cell_type": "code",
   "execution_count": 49,
   "id": "0e4d6d23-de87-4fa1-8149-7856f5b2aae4",
   "metadata": {},
   "outputs": [],
   "source": [
    "# генерация графа CA старая версия\n",
    "# \n",
    "# if(flg_CA == 1):\n",
    "#     for i in tqdm(range(4, num_nodes_ca)):\n",
    "#         local_calst = list(nx.clustering(G_ca).values())\n",
    "#         for j in range(len(local_calst)):\n",
    "#             local_calst[j] += 0.001\n",
    "#         k = []\n",
    "#         for i1 in range(num_neigh):\n",
    "#             k.append((random.choices(list(nx.clustering(G_ca).keys()), weights=local_calst))[0])\n",
    "#         for i1 in range(num_neigh):\n",
    "#             G_ca.add_edge(k[i1], i)\n"
   ]
  }
 ],
 "metadata": {
  "kernelspec": {
   "display_name": "Python 3 (ipykernel)",
   "language": "python",
   "name": "python3"
  },
  "language_info": {
   "codemirror_mode": {
    "name": "ipython",
    "version": 3
   },
   "file_extension": ".py",
   "mimetype": "text/x-python",
   "name": "python",
   "nbconvert_exporter": "python",
   "pygments_lexer": "ipython3",
   "version": "3.11.0rc1"
  }
 },
 "nbformat": 4,
 "nbformat_minor": 5
}
