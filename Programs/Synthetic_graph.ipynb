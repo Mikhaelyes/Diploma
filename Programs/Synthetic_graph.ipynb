{
 "cells": [
  {
   "cell_type": "code",
   "execution_count": 15,
   "id": "8406203a-c96c-43d6-b811-006b77f0884c",
   "metadata": {},
   "outputs": [],
   "source": [
    "import networkx as nx\n",
    "import pandas as pd\n",
    "import numpy as np\n",
    "import random \n",
    "import scipy.stats as stats\n",
    "import matplotlib.pyplot as plt\n",
    "import sys, os\n",
    "import warnings\n",
    "import processing_module as pm\n",
    "import scipy.stats as stats\n",
    "from tqdm import tqdm\n",
    "\n",
    "warnings.filterwarnings(\"ignore\")"
   ]
  },
  {
   "cell_type": "markdown",
   "id": "c6b93ec4-64c0-4758-9210-647699dde9c8",
   "metadata": {},
   "source": [
    "<span style=\"color:orange\">\n",
    "    \n",
    "## Preferential attachment ##"
   ]
  },
  {
   "cell_type": "markdown",
   "id": "b40fbc76-472b-4663-b3a4-22d7bc33573b",
   "metadata": {},
   "source": [
    "В этой модели новый узел присоединяется к уже существующему узлу $i$ в ненаправленном графе с вероятностью, вычисляемой по формуле:\n",
    "\n",
    "\\begin{equation}\\label{F1}\n",
    "P_{PA}(i,t) = \\dfrac{d_{i,t}}{\\sum\\limits_{s \\in V_{t}} d_{s,t}},\n",
    "\\end{equation}\n",
    "\n",
    "где $d_{i,t}$ - это количество связей узла $i$, принадлежащего множеству узлов $V_{t}$ в момент времени $t$. "
   ]
  },
  {
   "cell_type": "code",
   "execution_count": 2,
   "id": "3d5f7740-de51-4a28-82d2-c6bcf1bfc8ff",
   "metadata": {},
   "outputs": [],
   "source": [
    "data = {\n",
    "    'Source': [1, 2],\n",
    "    'Target': [2, 1],\n",
    "    'Node_degree': [1, 1]\n",
    "}\n",
    "\n",
    "row_labels = [1, 2]\n",
    "\n",
    "PA_graph = pd.DataFrame(data=data, index=row_labels)"
   ]
  },
  {
   "cell_type": "code",
   "execution_count": 3,
   "id": "d7b7bc5b-d2b6-432d-9865-8f57577da952",
   "metadata": {},
   "outputs": [
    {
     "name": "stdout",
     "output_type": "stream",
     "text": [
      "   Source  Target  Node_degree\n",
      "1       1       2            1\n",
      "2       2       1            1\n"
     ]
    }
   ],
   "source": [
    "print(PA_graph)"
   ]
  },
  {
   "cell_type": "code",
   "execution_count": 4,
   "id": "899de528-6d3d-4a9a-881c-1f4ad85a1cb3",
   "metadata": {},
   "outputs": [
    {
     "name": "stdout",
     "output_type": "stream",
     "text": [
      "[1 2]\n"
     ]
    }
   ],
   "source": [
    "print(PA_graph['Source'].values)"
   ]
  },
  {
   "cell_type": "code",
   "execution_count": 5,
   "id": "46e84f07-266d-47a6-bfa5-04c2085e037c",
   "metadata": {},
   "outputs": [
    {
     "name": "stdout",
     "output_type": "stream",
     "text": [
      "[1 1]\n"
     ]
    }
   ],
   "source": [
    "print(PA_graph['Node_degree'].values)"
   ]
  },
  {
   "cell_type": "code",
   "execution_count": 18,
   "id": "771a1902-a4b8-48d5-b9c1-ecc33ef9d4a3",
   "metadata": {},
   "outputs": [],
   "source": [
    "flg_PA = 0"
   ]
  },
  {
   "cell_type": "code",
   "execution_count": 19,
   "id": "e38c51f6-ff4d-412a-97f3-75775611fc1d",
   "metadata": {},
   "outputs": [
    {
     "name": "stdout",
     "output_type": "stream",
     "text": [
      "[]\n"
     ]
    }
   ],
   "source": [
    "l = []\n",
    "if(flg_PA == 1):\n",
    "    for i in tqdm(range(3, 10000)):\n",
    "        k = (random.choices(PA_graph['Source'].values, weights=PA_graph['Node_degree'].values))[0]\n",
    "        if (i == 3):\n",
    "            l = [PA_graph['Source'].values, PA_graph['Node_degree'].values]\n",
    "        # print(k)\n",
    "        PA_graph.loc[i] = [i, k, 1]\n",
    "        PA_graph['Node_degree'][k] += 1\n",
    "\n",
    "print(l)"
   ]
  },
  {
   "cell_type": "code",
   "execution_count": 7,
   "id": "f206e0ca-ef1d-47e8-9ff8-f247aaf566bd",
   "metadata": {},
   "outputs": [
    {
     "name": "stdout",
     "output_type": "stream",
     "text": [
      "   Source  Target  Node_degree\n",
      "1       1       2            1\n",
      "2       2       1            1\n"
     ]
    }
   ],
   "source": [
    "print(PA_graph)"
   ]
  },
  {
   "cell_type": "code",
   "execution_count": 8,
   "id": "bce979c8-c587-46c0-b672-60d28c91865a",
   "metadata": {},
   "outputs": [],
   "source": [
    "# PA_graph[['Source', 'Target']].to_csv('output.csv')"
   ]
  },
  {
   "cell_type": "code",
   "execution_count": 9,
   "id": "67b73b23-0542-474a-9420-8dbd65abb936",
   "metadata": {},
   "outputs": [],
   "source": [
    "# print(sorted(PA_graph['Node_degree'], reverse=True))"
   ]
  },
  {
   "cell_type": "markdown",
   "id": "f816e8cf-a86c-4793-be37-7ab1cf783d40",
   "metadata": {},
   "source": [
    "<span style=\"color:orange\">\n",
    "    \n",
    "## Clustering attachment ##"
   ]
  },
  {
   "cell_type": "markdown",
   "id": "896adaf1-3d46-45c5-b113-2fc7a50afe12",
   "metadata": {},
   "source": [
    "The attachment to an existing node i is proceeded with probability proportional to its clustering coefficient:\n",
    "\n",
    "PCA(i) ∝ cαi + ϵ, \n",
    "\n",
    "ci = 2∆i / ki(ki − 1)\n"
   ]
  },
  {
   "cell_type": "code",
   "execution_count": 2,
   "id": "14c547e0-b4a8-435c-9105-f59397fc6aa5",
   "metadata": {},
   "outputs": [],
   "source": [
    "data_ca = {\n",
    "    'Source': [1, 2, 3],\n",
    "    'Target': [2, 3, 1],\n",
    "}\n",
    "\n",
    "row_labels = [1, 2, 3]\n",
    "\n",
    "CA_graph = pd.DataFrame(data=data_ca, index=row_labels)\n"
   ]
  },
  {
   "cell_type": "code",
   "execution_count": 3,
   "id": "0e070db8-1167-4857-8d99-e320754e7749",
   "metadata": {},
   "outputs": [
    {
     "name": "stdout",
     "output_type": "stream",
     "text": [
      "   Source  Target\n",
      "1       1       2\n",
      "2       2       3\n",
      "3       3       1\n"
     ]
    }
   ],
   "source": [
    "print(CA_graph)"
   ]
  },
  {
   "cell_type": "code",
   "execution_count": 4,
   "id": "fd3e53f2-07bd-4b1a-b08e-31196f614dd9",
   "metadata": {},
   "outputs": [],
   "source": [
    "G_ca = nx.Graph()\n",
    "G_ca.add_edges_from(CA_graph.values.tolist())"
   ]
  },
  {
   "cell_type": "code",
   "execution_count": 5,
   "id": "e9b447e3-5229-4f4f-8d50-c7357f589216",
   "metadata": {},
   "outputs": [
    {
     "name": "stdout",
     "output_type": "stream",
     "text": [
      "dict_keys([1, 2, 3])\n",
      "[1.0, 1.0, 1.0]\n"
     ]
    }
   ],
   "source": [
    "print(nx.clustering(G_ca).keys())\n",
    "print(list(nx.clustering(G_ca).values()))"
   ]
  },
  {
   "cell_type": "code",
   "execution_count": 20,
   "id": "bf60bd59-0e93-42f8-9d49-c58301be9eaf",
   "metadata": {},
   "outputs": [],
   "source": [
    "flg_CA = 0"
   ]
  },
  {
   "cell_type": "code",
   "execution_count": 21,
   "id": "0e4d6d23-de87-4fa1-8149-7856f5b2aae4",
   "metadata": {},
   "outputs": [],
   "source": [
    "if(flg_CA == 1):\n",
    "    for i in tqdm(range(4, 10000)):\n",
    "        local_calst = list(nx.clustering(G_ca).values())\n",
    "        for j in range(len(local_calst)):\n",
    "            local_calst[j] += 0.001\n",
    "        k = (random.choices(list(nx.clustering(G_ca).keys()), weights=local_calst))[0]\n",
    "        G_ca.add_edge(k, i)\n"
   ]
  },
  {
   "cell_type": "code",
   "execution_count": 11,
   "id": "a98bb975-60b2-479c-b6fa-a1245f54fd81",
   "metadata": {},
   "outputs": [
    {
     "name": "stdout",
     "output_type": "stream",
     "text": [
      "Graph with 9621 nodes and 9621 edges\n"
     ]
    }
   ],
   "source": [
    "print(G_ca)"
   ]
  },
  {
   "cell_type": "code",
   "execution_count": 22,
   "id": "48e93f69-5e2b-4c9b-9789-a7450158bd1c",
   "metadata": {},
   "outputs": [],
   "source": [
    "my_path = os.path.abspath(\"\") + \"/..\"\n",
    "(nx.to_pandas_edgelist(G_ca)).to_csv(my_path + \"/Data_postproc\" + '/CA_graph.csv')"
   ]
  },
  {
   "cell_type": "code",
   "execution_count": 28,
   "id": "3b2729c6-1b94-4c29-9841-12e18cca3f49",
   "metadata": {},
   "outputs": [
    {
     "name": "stdout",
     "output_type": "stream",
     "text": [
      "        target\n",
      "source        \n",
      "1           40\n",
      "3           34\n",
      "2           34\n",
      "26          12\n",
      "126         12\n",
      "...        ...\n",
      "1177         1\n",
      "3652         1\n",
      "3653         1\n",
      "3656         1\n",
      "9465         1\n",
      "\n",
      "[4853 rows x 1 columns]\n"
     ]
    }
   ],
   "source": [
    "edges_ca = nx.to_pandas_edgelist(G_ca)\n",
    "print(edges_ca.groupby(['source']).count().sort_values(by = ['target'] , ascending=False))"
   ]
  },
  {
   "cell_type": "code",
   "execution_count": 14,
   "id": "7265f16a-780e-4c05-830a-b9ddd6877642",
   "metadata": {},
   "outputs": [],
   "source": [
    "# for i in range(len(edges_ca['source'])):\n",
    "#     print(i, edges_ca[edges_ca['source'] == i].size)\n",
    "# print(edges_ca[edges_ca['source'] == 1])"
   ]
  },
  {
   "cell_type": "code",
   "execution_count": null,
   "id": "ab3218e3-f5ac-40a8-af21-b1aa6932df45",
   "metadata": {},
   "outputs": [],
   "source": []
  }
 ],
 "metadata": {
  "kernelspec": {
   "display_name": "Python 3 (ipykernel)",
   "language": "python",
   "name": "python3"
  },
  "language_info": {
   "codemirror_mode": {
    "name": "ipython",
    "version": 3
   },
   "file_extension": ".py",
   "mimetype": "text/x-python",
   "name": "python",
   "nbconvert_exporter": "python",
   "pygments_lexer": "ipython3",
   "version": "3.11.0rc1"
  }
 },
 "nbformat": 4,
 "nbformat_minor": 5
}
