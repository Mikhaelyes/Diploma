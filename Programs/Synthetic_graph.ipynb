{
 "cells": [
  {
   "cell_type": "code",
   "execution_count": 1,
   "id": "8406203a-c96c-43d6-b811-006b77f0884c",
   "metadata": {},
   "outputs": [],
   "source": [
    "import networkx as nx\n",
    "import pandas as pd\n",
    "import numpy as np\n",
    "import random \n",
    "import scipy.stats as stats\n",
    "import matplotlib.pyplot as plt\n",
    "import sys, os\n",
    "import warnings\n",
    "import processing_module as pm\n",
    "import scipy.stats as stats\n",
    "from tqdm import tqdm\n",
    "\n",
    "warnings.filterwarnings(\"ignore\")"
   ]
  },
  {
   "cell_type": "markdown",
   "id": "c6b93ec4-64c0-4758-9210-647699dde9c8",
   "metadata": {},
   "source": [
    "<span style=\"color:orange\">\n",
    "    \n",
    "## Preferential attachment ##"
   ]
  },
  {
   "cell_type": "markdown",
   "id": "b40fbc76-472b-4663-b3a4-22d7bc33573b",
   "metadata": {},
   "source": [
    "В этой модели новый узел присоединяется к уже существующему узлу $i$ в ненаправленном графе с вероятностью, вычисляемой по формуле:\n",
    "\n",
    "\\begin{equation}\\label{F1}\n",
    "P_{PA}(i,t) = \\dfrac{d_{i,t}}{\\sum\\limits_{s \\in V_{t}} d_{s,t}},\n",
    "\\end{equation}\n",
    "\n",
    "где $d_{i,t}$ - это количество связей узла $i$, принадлежащего множеству узлов $V_{t}$ в момент времени $t$. "
   ]
  },
  {
   "cell_type": "code",
   "execution_count": 2,
   "id": "8fd191ff-8d57-46c0-ab48-bd7452187482",
   "metadata": {},
   "outputs": [],
   "source": [
    "def gen_graph_PA(G_input: nx.Graph, num_nodes: int, num_neigh: int) -> nx.Graph:\n",
    "    \"\"\"\n",
    "    Функция генерации вершин графа методом предпочтительного присоединения.\n",
    "    Используются библиотеки tqdm, networkx.\n",
    "    \n",
    "    Input:\n",
    "        G_input - изначальный неориентированный граф к которому присоединяются новые вершины.\n",
    "        num_nodes - количество присоединяемых вершин.\n",
    "        num_neigh - количество соседий, к которым присоединяется новая вершина.\n",
    "        \n",
    "    Output:\n",
    "        Изначальный неориентированный граф к которому присоеденены вершины.\n",
    "    \"\"\"\n",
    "    i_start = len(list(G_input.nodes))\n",
    "    print(i_start)\n",
    "    for i in tqdm(range(i_start + 1, i_start + num_nodes)):\n",
    "        k = []\n",
    "        for i1 in range(num_neigh):\n",
    "            k.append((random.choices(list(dict(G_input.degree()).keys()), weights=list(dict(G_input.degree()).values())))[0])\n",
    "        for i1 in range(num_neigh):\n",
    "            G_input.add_edge(k[i1], i)     \n",
    "    return G_input"
   ]
  },
  {
   "cell_type": "code",
   "execution_count": 3,
   "id": "881e52cb-e0c9-40c0-8ef1-38761b402a17",
   "metadata": {},
   "outputs": [],
   "source": [
    "data_pa = {\n",
    "    'Source': [1, 2, 3],\n",
    "    'Target': [2, 3, 1],\n",
    "}\n",
    "\n",
    "row_labels = [1, 2, 3]\n",
    "\n",
    "PA_graph = pd.DataFrame(data=data_pa, index=row_labels)\n",
    "\n",
    "G_pa = nx.Graph()\n",
    "G_pa.add_edges_from(PA_graph.values.tolist())\n",
    "\n",
    "\n",
    "num_neigh = 5\n",
    "num_nodes = 100\n",
    "\n",
    "\n",
    "if (False):\n",
    "    G_pa_1 = gen_graph_PA(G_pa, num_nodes, num_neigh)\n",
    "    print(G_pa_1)"
   ]
  },
  {
   "cell_type": "markdown",
   "id": "f816e8cf-a86c-4793-be37-7ab1cf783d40",
   "metadata": {},
   "source": [
    "<span style=\"color:orange\">\n",
    "    \n",
    "## Clustering attachment ##"
   ]
  },
  {
   "cell_type": "markdown",
   "id": "896adaf1-3d46-45c5-b113-2fc7a50afe12",
   "metadata": {},
   "source": [
    "The attachment to an existing node i is proceeded with probability proportional to its clustering coefficient:\n",
    "\n",
    "PCA(i) ∝ cαi + ϵ, \n",
    "\n",
    "ci = 2∆i / ki(ki − 1)\n"
   ]
  },
  {
   "cell_type": "code",
   "execution_count": 4,
   "id": "d58cd650-639b-4398-92b0-0f48d4f45704",
   "metadata": {},
   "outputs": [],
   "source": [
    "def gen_graph_CA(G_input: nx.Graph, num_nodes: int, num_neigh: int) -> nx.Graph:\n",
    "    \"\"\"\n",
    "    Функция генерации вершин графа методом кластерного присоединения.\n",
    "    Используются библиотеки tqdm, networkx.\n",
    "    Содержит циклы так как k.append((random.choices)) может выдавать 2 одинаковых числа. \n",
    "    \n",
    "    Input:\n",
    "        G_input - изначальный неориентированный граф к которому присоединяются новые вершины.\n",
    "        num_nodes - количество присоединяемых вершин.\n",
    "        num_neigh - количество соседий, к которым присоединяется новая вершина.\n",
    "        \n",
    "    Output:\n",
    "        Изначальный неориентированный граф к которому присоеденены вершины.\n",
    "    \"\"\"\n",
    "    i_start = len(list(G_input.nodes))\n",
    "    for i in tqdm(range(i_start + 1, i_start + num_nodes)):\n",
    "        local_calst = list(nx.clustering(G_input).values())\n",
    "        for j in range(len(local_calst)):\n",
    "            local_calst[j] += 0.001\n",
    "        k = []\n",
    "        for i1 in range(num_neigh):\n",
    "            k.append((random.choices(list(nx.clustering(G_input).keys()), weights=local_calst))[0])\n",
    "        for i1 in range(num_neigh):\n",
    "            G_input.add_edge(k[i1], i)\n",
    "    return G_input"
   ]
  },
  {
   "cell_type": "code",
   "execution_count": 5,
   "id": "5970345a-661b-4b55-9b48-7cc30dad6c47",
   "metadata": {},
   "outputs": [],
   "source": [
    "data_ca = {\n",
    "    'Source': [1, 2, 3],\n",
    "    'Target': [2, 3, 1],\n",
    "}\n",
    "\n",
    "row_labels = [1, 2, 3]\n",
    "\n",
    "CA_graph = pd.DataFrame(data=data_ca, index=row_labels)\n",
    "\n",
    "G_ca = nx.Graph()\n",
    "G_ca.add_edges_from(CA_graph.values.tolist())\n",
    "\n",
    "num_neigh = 5\n",
    "num_nodes = 100\n",
    "\n",
    "\n",
    "if (False):\n",
    "    G_ca_1 = gen_graph_CA(G_ca, num_nodes, num_neigh)\n",
    "    print(G_ca_1)"
   ]
  },
  {
   "cell_type": "code",
   "execution_count": 6,
   "id": "48e93f69-5e2b-4c9b-9789-a7450158bd1c",
   "metadata": {},
   "outputs": [],
   "source": [
    "if (False):\n",
    "    my_path = os.path.abspath(\"\") + \"/..\"\n",
    "    (nx.to_pandas_edgelist(G_ca)).to_csv(my_path + \"/Data_postproc\" + '/CA_graph.csv', index=False)"
   ]
  },
  {
   "cell_type": "markdown",
   "id": "fc50289c-c939-4573-b08b-5152507ecd41",
   "metadata": {},
   "source": [
    "<span style=\"color:orange\">\n",
    "    \n",
    "## Alpha Betta Gamma scheme ##"
   ]
  },
  {
   "cell_type": "code",
   "execution_count": null,
   "id": "117f9e1b-d6c6-4952-9989-a25293a118cd",
   "metadata": {},
   "outputs": [],
   "source": [
    "def gen_graph_ABG(G_input: nx.DiGraph, num_nodes: int, alpha: float, beta: float) -> nx.DiGraph:\n",
    "    \"\"\"\n",
    "    Функция генерации вершин графа методом альфа, бетта, гамма присоединения.\n",
    "    Используются библиотеки tqdm, networkx.\n",
    "    gamma = 1 - (alpha + beta).\n",
    "    \n",
    "    Input:\n",
    "        G_input - изначальный ориентированный граф к которому присоединяются новые вершины.\n",
    "        num_nodes - количество итераций алгоритма.\n",
    "        alpha - float.\n",
    "        beta - float. \n",
    "        \n",
    "    Output:\n",
    "        Изначальный граф к которому присоеденены вершины.\n",
    "    \"\"\"\n",
    "    assert (alpha + beta) > 1\n",
    "    assert type(G_input) = nx.DiGraph\n",
    "    \n",
    "    i_start = len(list(G_input.nodes))\n",
    "    gamma = 1 - alpha - beta\n",
    "    print(alpha, beta, gamma, G_input)\n",
    "    # for i in tqdm(range(i_start + 1, i_start + num_nodes)):\n",
    "    #     local_calst = list(nx.clustering(G_input).values())\n",
    "    #     for j in range(len(local_calst)):\n",
    "    #         local_calst[j] += 0.001\n",
    "    #     k = []\n",
    "    #     for i1 in range(num_neigh):\n",
    "    #         k.append((random.choices(list(nx.clustering(G_input).keys()), weights=local_calst))[0])\n",
    "    #     for i1 in range(num_neigh):\n",
    "    #         G_input.add_edge(k[i1], i)\n",
    "    return G_input"
   ]
  },
  {
   "cell_type": "code",
   "execution_count": null,
   "id": "6cbeef94-deb9-4edc-867b-c43d511f68bf",
   "metadata": {},
   "outputs": [],
   "source": []
  },
  {
   "cell_type": "markdown",
   "id": "5ee8795c-af56-4f58-97f0-5859ffe8e1a5",
   "metadata": {},
   "source": [
    "<span style=\"color:orange\">\n",
    "    \n",
    "## Graph generation ##"
   ]
  },
  {
   "cell_type": "code",
   "execution_count": 7,
   "id": "822f7f42-2d6b-4e00-b18a-91d1075aa3f1",
   "metadata": {},
   "outputs": [],
   "source": [
    "if (True):\n",
    "    my_path = os.path.abspath(\"\") + \"/..\"\n",
    "    CA_graph_df = pd.read_csv(my_path + \"/Data_postproc\" + \"/Big_graph\" + '/CA_PA_19_nodes.csv')\n",
    "    G_init = nx.from_pandas_edgelist(CA_graph_df)"
   ]
  },
  {
   "cell_type": "code",
   "execution_count": 8,
   "id": "04728393-023f-4be6-bab2-8acaacd05c2d",
   "metadata": {},
   "outputs": [
    {
     "name": "stdout",
     "output_type": "stream",
     "text": [
      "Graph with 7983 nodes and 39743 edges\n"
     ]
    }
   ],
   "source": [
    "print(G_init)"
   ]
  },
  {
   "cell_type": "code",
   "execution_count": 10,
   "id": "e9848e56-8114-48ff-a038-969a78979f30",
   "metadata": {},
   "outputs": [],
   "source": [
    "data_init = {\n",
    "    'Source': [1, 2, 3],\n",
    "    'Target': [2, 3, 1],\n",
    "}\n",
    "\n",
    "row_labels = [1, 2, 3]\n",
    "\n",
    "graph_init = pd.DataFrame(data=data_init, index=row_labels)\n",
    "\n",
    "G_init = nx.Graph()\n",
    "G_init.add_edges_from(graph_init.values.tolist())\n",
    "\n",
    "num_neigh = 5\n",
    "num_nodes = 400\n",
    "blocks = 40\n",
    "pr = []\n",
    "\n",
    "\n",
    "for i in range(0, blocks):\n",
    "    pr.append([])\n",
    "\n",
    "\n",
    "\"\"\"\n",
    "Генерация графа\n",
    "\"\"\"\n",
    "if (False):\n",
    "    my_path = os.path.abspath(\"\") + \"/..\"\n",
    "    for t in range(0, blocks//2):\n",
    "        G_init = gen_graph_CA(G_init, num_nodes, num_neigh)\n",
    "        pr[t] = list((nx.pagerank(G_init)).values())[-num_nodes:-1]\n",
    "        (nx.to_pandas_edgelist(G_init)).to_csv(my_path + \"/Data_postproc\" + \"/Big_graph\" + \"/CA_PA_\" \\\n",
    "                                               + str(t) + \"_nodes\" + \".csv\", index=False)   \n",
    "\n",
    "    for t in range(blocks//2, blocks):\n",
    "        G_init = gen_graph_PA(G_init, num_nodes, num_neigh)\n",
    "        pr[t] = list((nx.pagerank(G_init)).values())[-num_nodes:-1]\n",
    "        (nx.to_pandas_edgelist(G_init)).to_csv(my_path + \"/Data_postproc\" + \"/Big_graph\" + \"/CA_PA_\" \\\n",
    "                                               + str(t) + \"_nodes\" + \".csv\", index=False)\n",
    "\n",
    "\n",
    "\"\"\"\n",
    "Запись графа\n",
    "\"\"\"\n",
    "if (False):\n",
    "    my_path = os.path.abspath(\"\") + \"/..\"\n",
    "    CA_graph_df = pd.read_csv(my_path + \"/Data_postproc\" + '/CA_PA_graph_12knodes.csv')\n",
    "    G_init = nx.from_pandas_edgelist(CA_graph_df)\n",
    "\n",
    "\n",
    "\"\"\"\n",
    "Загрузка цепочек данных\n",
    "\"\"\"\n",
    "if(True):\n",
    "    for t in range(0, blocks):\n",
    "        my_path = os.path.abspath(\"\") + \"/..\"\n",
    "        CA_graph_df = pd.read_csv(my_path + \"/Data_postproc\" + \"/Big_graph\" + \"/CA_PA_\" \\\n",
    "                                                   + str(t) + \"_nodes\" + \".csv\")\n",
    "        G_init = nx.from_pandas_edgelist(CA_graph_df)\n",
    "        pr[t] = list((nx.pagerank(G_init)).values())[-num_nodes:-1]"
   ]
  },
  {
   "cell_type": "code",
   "execution_count": 11,
   "id": "51dfd003-0afc-40ad-868f-2c0ccaafd5fe",
   "metadata": {},
   "outputs": [],
   "source": [
    "# for t in range(0, blocks//2):\n",
    "#     G_init = gen_graph_CA(G_init, num_nodes, num_neigh)\n",
    "#     pr[t] = list((nx.pagerank(G_init)).values())[-num_nodes:-1]\n",
    "#     (nx.to_pandas_edgelist(G_init)).to_csv(my_path + \"/Data_postproc\" + \"/Big_graph\" + \"/CA_PA_\" \\\n",
    "#                                                + str(t) + \"_nodes\" + \".csv\", index=False)\n",
    "\n",
    "\n",
    "# for t in range(0, blocks//2):\n",
    "#     my_path = os.path.abspath(\"\") + \"/..\"\n",
    "#     CA_graph_df = pd.read_csv(my_path + \"/Data_postproc\" + \"/Big_graph\" + \"/CA_PA_\" \\\n",
    "#                                                + str(t) + \"_nodes\" + \".csv\")\n",
    "#     G_init = nx.from_pandas_edgelist(CA_graph_df)\n",
    "#     pr[t] = list((nx.pagerank(G_init)).values())[-num_nodes:-1]"
   ]
  },
  {
   "cell_type": "code",
   "execution_count": 12,
   "id": "c280cc3f-13cb-4baf-ae43-2dccc6460faf",
   "metadata": {},
   "outputs": [],
   "source": [
    "if (False):\n",
    "    my_path = os.path.abspath(\"\") + \"/..\"\n",
    "    i = 10\n",
    "    (nx.to_pandas_edgelist(G_init)).to_csv(my_path + \"/Data_postproc\" + '/CA_PA_' + str(i) + '_nodes' + '.csv', index=False)"
   ]
  },
  {
   "cell_type": "code",
   "execution_count": 15,
   "id": "5b9f81b3-fc73-4a88-b9b6-2f49b7871d70",
   "metadata": {},
   "outputs": [
    {
     "name": "stdout",
     "output_type": "stream",
     "text": [
      "399\n"
     ]
    }
   ],
   "source": [
    "print(len(pr[19]))"
   ]
  },
  {
   "cell_type": "code",
   "execution_count": 13,
   "id": "3d4f419e-5ae0-4a4d-aa1e-4ac177edcbd3",
   "metadata": {},
   "outputs": [
    {
     "name": "stdout",
     "output_type": "stream",
     "text": [
      "0 0.18271080127350992\n",
      "1 0.11869367995466096\n",
      "2 0.0786646807459439\n",
      "3 0.10039877679105924\n",
      "4 0.12581930595061674\n",
      "5 0.08888127726330453\n",
      "6 0.16426261406267617\n",
      "7 0.1889485708196581\n",
      "8 0.19151364473314203\n",
      "9 0.26302801240196416\n",
      "10 0.1805071964386853\n",
      "11 0.1234018322783168\n",
      "12 0.08594665091054665\n",
      "13 0.11363827407793536\n",
      "14 0.562274385252099\n",
      "15 0.23789861548285973\n",
      "16 0.2945882133320783\n",
      "17 0.3124794830008\n",
      "18 0.4929100031791318\n",
      "19 0.40719313526030554\n",
      "20 0.07573102421755173\n",
      "21 0.07794619978099071\n",
      "22 0.10105778307162261\n",
      "23 0.10446855947980715\n",
      "24 0.15599317619249398\n",
      "25 0.10769801347831987\n",
      "26 0.12904884419957163\n",
      "27 0.13298346809570383\n",
      "28 0.10659497268169282\n",
      "29 0.14008611977731\n",
      "30 0.13264242798184078\n",
      "31 0.13213341377930732\n",
      "32 0.1484288189663232\n",
      "33 0.1479629862144467\n",
      "34 0.15117729961353632\n",
      "35 0.15195835803256585\n",
      "36 0.1381104806963851\n",
      "37 0.17675136335849473\n",
      "38 0.18667054279188378\n",
      "39 0.18975624470290775\n"
     ]
    }
   ],
   "source": [
    "x_gr = list()\n",
    "y_gr = list()\n",
    "for i in range(blocks):\n",
    "    x = pm.hill(pr[i])\n",
    "    eye_val = (pm.eye_ball(x))[0]\n",
    "    x_gr.append(i)\n",
    "    y_gr.append(eye_val)\n",
    "    print(i, eye_val)"
   ]
  },
  {
   "cell_type": "code",
   "execution_count": 14,
   "id": "1d2d94a7-20ef-4bf3-a64b-4e434f96ba94",
   "metadata": {},
   "outputs": [
    {
     "data": {
      "image/png": "[encoded data removed]",
      "text/plain": [
       "<Figure size 640x480 with 1 Axes>"
      ]
     },
     "metadata": {},
     "output_type": "display_data"
    }
   ],
   "source": [
    "plt.plot(x_gr, y_gr, marker='o', markersize=7)\n",
    "plt.xlabel('Шаг эволюции') #Хвостовые ингде\n",
    "plt.ylabel('EVI') #Подпись для оси y\n",
    "plt.title('Зависимость EVI от шага эволюции') #Название\n",
    "plt.show()"
   ]
  },
  {
   "cell_type": "code",
   "execution_count": null,
   "id": "63306e8f-ec77-4ef8-acec-37139615c82a",
   "metadata": {},
   "outputs": [],
   "source": [
    "med = []\n",
    "for i in range(30):\n",
    "    med.append(np.median(pr[i]))\n",
    "\n",
    "plt.plot(x_gr, med, marker='o', markersize=7)\n",
    "plt.xlabel('Временной блок') #Хвостовые ингде\n",
    "plt.ylabel('Медиана данных в блоке') #Подпись для оси y\n",
    "plt.title('Медиана данных в блоке от времени') #Название\n",
    "plt.show()"
   ]
  },
  {
   "cell_type": "code",
   "execution_count": 158,
   "id": "440a4687-38d4-4d59-9ea2-59ebf4df4317",
   "metadata": {},
   "outputs": [],
   "source": [
    "def phillips_loretan(x1, x2):\n",
    "    \"\"\"\n",
    "    Функция теста phillips_loretan для двух последовательностей\n",
    "    \"\"\"\n",
    "    tail_ind_1, tail_num_1 = pm.eye_ball(pm.hill(x1))\n",
    "    tail_ind_2, tail_num_2 = pm.eye_ball(pm.hill(x2))\n",
    "    s = (tail_num_1*(tail_ind_2)**2 * (tail_ind_1/tail_ind_2 - 1)**2)/ \\\n",
    "    (tail_ind_1**2 + (tail_num_1/tail_num_2)*tail_ind_2**2)\n",
    "    return s"
   ]
  },
  {
   "cell_type": "code",
   "execution_count": 159,
   "id": "f2bdd30f-a9f1-4d7b-a667-ad6a4aabe7f8",
   "metadata": {
    "scrolled": true
   },
   "outputs": [
    {
     "name": "stdout",
     "output_type": "stream",
     "text": [
      "group_1 \n",
      " 0.0 18.565757361257 \n",
      "\n",
      "group_2 \n",
      " 0.0 35.23748339664926 \n",
      "\n",
      "group_1_2 \n",
      " 0.005084757828938122 44.23590335578281 \n",
      "\n"
     ]
    }
   ],
   "source": [
    "group_1 = []\n",
    "for i in range(0, 10):\n",
    "    for j in range(0, 10):\n",
    "        # print(i, j, phillips_loretan(pr[i], pr[j]))\n",
    "        group_1.append(phillips_loretan(pr[i], pr[j]))\n",
    "\n",
    "group_1_2 = []\n",
    "# print('\\n')\n",
    "for i in range(0, 10):\n",
    "    for j in range(10, 20):\n",
    "        # print(i, j, phillips_loretan(pr[i], pr[j]))\n",
    "        group_1_2.append(phillips_loretan(pr[i], pr[j]))\n",
    "\n",
    "group_2 = []\n",
    "# print('\\n')\n",
    "for i in range(10, 20):\n",
    "    for j in range(10, 20):\n",
    "        # print(i, j, phillips_loretan(pr[i], pr[j]))\n",
    "        group_2.append(phillips_loretan(pr[i], pr[j]))\n",
    "\n",
    "print('group_1 \\n', min(group_1), max(group_1), '\\n')\n",
    "print('group_2 \\n', min(group_2), max(group_2), '\\n')\n",
    "print('group_1_2 \\n', min(group_1_2), max(group_1_2), '\\n')"
   ]
  },
  {
   "cell_type": "code",
   "execution_count": 1,
   "id": "f8f3d5a7-2dcd-4b91-889a-0920221e812b",
   "metadata": {},
   "outputs": [
    {
     "ename": "NameError",
     "evalue": "name 'phillips_loretan' is not defined",
     "output_type": "error",
     "traceback": [
      "\u001b[0;31m---------------------------------------------------------------------------\u001b[0m",
      "\u001b[0;31mNameError\u001b[0m                                 Traceback (most recent call last)",
      "Cell \u001b[0;32mIn[1], line 1\u001b[0m\n\u001b[0;32m----> 1\u001b[0m \u001b[43mphillips_loretan\u001b[49m(pr[\u001b[38;5;241m14\u001b[39m], pr[\u001b[38;5;241m15\u001b[39m])\n",
      "\u001b[0;31mNameError\u001b[0m: name 'phillips_loretan' is not defined"
     ]
    }
   ],
   "source": [
    "phillips_loretan(pr[14], pr[15])"
   ]
  },
  {
   "cell_type": "markdown",
   "id": "7af39e23-b827-482d-a1a8-49279c0d7aa9",
   "metadata": {},
   "source": [
    "<span style=\"color:orange\">\n",
    "    \n",
    "## Old code ##"
   ]
  },
  {
   "cell_type": "code",
   "execution_count": 6,
   "id": "7265f16a-780e-4c05-830a-b9ddd6877642",
   "metadata": {},
   "outputs": [],
   "source": [
    "# for i in range(len(edges_ca['source'])):\n",
    "#     print(i, edges_ca[edges_ca['source'] == i].size)\n",
    "# print(edges_ca[edges_ca['source'] == 1])"
   ]
  },
  {
   "cell_type": "code",
   "execution_count": 7,
   "id": "e38c51f6-ff4d-412a-97f3-75775611fc1d",
   "metadata": {},
   "outputs": [],
   "source": [
    "# data = {\n",
    "#     'Source': [1, 2],\n",
    "#     'Target': [2, 1],\n",
    "#     'Node_degree': [1, 1]\n",
    "# }\n",
    "\n",
    "# row_labels = [1, 2]\n",
    "\n",
    "# PA_graph = pd.DataFrame(data=data, index=row_labels)\n",
    "\n",
    "# flg_PA = 0\n",
    "\n",
    "# l = []\n",
    "# if(flg_PA == 1):\n",
    "#     for i in tqdm(range(3, 10000)):\n",
    "#         k = (random.choices(PA_graph['Source'].values, weights=PA_graph['Node_degree'].values))[0]\n",
    "#         if (i == 3):\n",
    "#             l = [PA_graph['Source'].values, PA_graph['Node_degree'].values]\n",
    "#         # print(k)\n",
    "#         PA_graph.loc[i] = [i, k, 1]\n",
    "#         PA_graph['Node_degree'][k] += 1\n",
    "\n",
    "# print(l)"
   ]
  },
  {
   "cell_type": "code",
   "execution_count": 49,
   "id": "0e4d6d23-de87-4fa1-8149-7856f5b2aae4",
   "metadata": {},
   "outputs": [],
   "source": [
    "# генерация графа CA старая версия\n",
    "# \n",
    "# if(flg_CA == 1):\n",
    "#     for i in tqdm(range(4, num_nodes_ca)):\n",
    "#         local_calst = list(nx.clustering(G_ca).values())\n",
    "#         for j in range(len(local_calst)):\n",
    "#             local_calst[j] += 0.001\n",
    "#         k = []\n",
    "#         for i1 in range(num_neigh):\n",
    "#             k.append((random.choices(list(nx.clustering(G_ca).keys()), weights=local_calst))[0])\n",
    "#         for i1 in range(num_neigh):\n",
    "#             G_ca.add_edge(k[i1], i)\n"
   ]
  }
 ],
 "metadata": {
  "kernelspec": {
   "display_name": "Python 3 (ipykernel)",
   "language": "python",
   "name": "python3"
  },
  "language_info": {
   "codemirror_mode": {
    "name": "ipython",
    "version": 3
   },
   "file_extension": ".py",
   "mimetype": "text/x-python",
   "name": "python",
   "nbconvert_exporter": "python",
   "pygments_lexer": "ipython3",
   "version": "3.11.0rc1"
  }
 },
 "nbformat": 4,
 "nbformat_minor": 5
}
